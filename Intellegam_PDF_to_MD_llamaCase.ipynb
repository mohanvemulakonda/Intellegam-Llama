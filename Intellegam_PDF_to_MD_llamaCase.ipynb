{
  "nbformat": 4,
  "nbformat_minor": 0,
  "metadata": {
    "colab": {
      "provenance": [],
      "authorship_tag": "ABX9TyMbZ10NCUq7w+h3M6GqnCVI",
      "include_colab_link": true
    },
    "kernelspec": {
      "name": "python3",
      "display_name": "Python 3"
    },
    "language_info": {
      "name": "python"
    }
  },
  "cells": [
    {
      "cell_type": "markdown",
      "metadata": {
        "id": "view-in-github",
        "colab_type": "text"
      },
      "source": [
        "<a href=\"https://colab.research.google.com/github/mohanvemulakonda/Intellegam-Llama/blob/main/Intellegam_PDF_to_MD_llamaCase.ipynb\" target=\"_parent\"><img src=\"https://colab.research.google.com/assets/colab-badge.svg\" alt=\"Open In Colab\"/></a>"
      ]
    },
    {
      "cell_type": "code",
      "execution_count": 2,
      "metadata": {
        "id": "EW4wwRTiURfv",
        "colab": {
          "base_uri": "https://localhost:8080/"
        },
        "collapsed": true,
        "outputId": "e40dc491-6448-4548-9d72-611da007b136"
      },
      "outputs": [
        {
          "output_type": "stream",
          "name": "stdout",
          "text": [
            "Collecting llama_parse\n",
            "  Downloading llama_parse-0.5.5-py3-none-any.whl.metadata (6.1 kB)\n",
            "Collecting llama-index-core>=0.11.0 (from llama_parse)\n",
            "  Downloading llama_index_core-0.11.8-py3-none-any.whl.metadata (2.4 kB)\n",
            "Requirement already satisfied: PyYAML>=6.0.1 in /usr/local/lib/python3.10/dist-packages (from llama-index-core>=0.11.0->llama_parse) (6.0.2)\n",
            "Requirement already satisfied: SQLAlchemy>=1.4.49 in /usr/local/lib/python3.10/dist-packages (from SQLAlchemy[asyncio]>=1.4.49->llama-index-core>=0.11.0->llama_parse) (2.0.32)\n",
            "Requirement already satisfied: aiohttp<4.0.0,>=3.8.6 in /usr/local/lib/python3.10/dist-packages (from llama-index-core>=0.11.0->llama_parse) (3.10.5)\n",
            "Collecting dataclasses-json (from llama-index-core>=0.11.0->llama_parse)\n",
            "  Downloading dataclasses_json-0.6.7-py3-none-any.whl.metadata (25 kB)\n",
            "Collecting deprecated>=1.2.9.3 (from llama-index-core>=0.11.0->llama_parse)\n",
            "  Downloading Deprecated-1.2.14-py2.py3-none-any.whl.metadata (5.4 kB)\n",
            "Collecting dirtyjson<2.0.0,>=1.0.8 (from llama-index-core>=0.11.0->llama_parse)\n",
            "  Downloading dirtyjson-1.0.8-py3-none-any.whl.metadata (11 kB)\n",
            "Requirement already satisfied: fsspec>=2023.5.0 in /usr/local/lib/python3.10/dist-packages (from llama-index-core>=0.11.0->llama_parse) (2024.6.1)\n",
            "Collecting httpx (from llama-index-core>=0.11.0->llama_parse)\n",
            "  Downloading httpx-0.27.2-py3-none-any.whl.metadata (7.1 kB)\n",
            "Requirement already satisfied: nest-asyncio<2.0.0,>=1.5.8 in /usr/local/lib/python3.10/dist-packages (from llama-index-core>=0.11.0->llama_parse) (1.6.0)\n",
            "Requirement already satisfied: networkx>=3.0 in /usr/local/lib/python3.10/dist-packages (from llama-index-core>=0.11.0->llama_parse) (3.3)\n",
            "Collecting nltk>3.8.1 (from llama-index-core>=0.11.0->llama_parse)\n",
            "  Downloading nltk-3.9.1-py3-none-any.whl.metadata (2.9 kB)\n",
            "Requirement already satisfied: numpy<2.0.0 in /usr/local/lib/python3.10/dist-packages (from llama-index-core>=0.11.0->llama_parse) (1.26.4)\n",
            "Requirement already satisfied: pillow>=9.0.0 in /usr/local/lib/python3.10/dist-packages (from llama-index-core>=0.11.0->llama_parse) (9.4.0)\n",
            "Requirement already satisfied: pydantic<3.0.0,>=2.7.0 in /usr/local/lib/python3.10/dist-packages (from llama-index-core>=0.11.0->llama_parse) (2.8.2)\n",
            "Requirement already satisfied: requests>=2.31.0 in /usr/local/lib/python3.10/dist-packages (from llama-index-core>=0.11.0->llama_parse) (2.32.3)\n",
            "Collecting tenacity!=8.4.0,<9.0.0,>=8.2.0 (from llama-index-core>=0.11.0->llama_parse)\n",
            "  Downloading tenacity-8.5.0-py3-none-any.whl.metadata (1.2 kB)\n",
            "Collecting tiktoken>=0.3.3 (from llama-index-core>=0.11.0->llama_parse)\n",
            "  Downloading tiktoken-0.7.0-cp310-cp310-manylinux_2_17_x86_64.manylinux2014_x86_64.whl.metadata (6.6 kB)\n",
            "Requirement already satisfied: tqdm<5.0.0,>=4.66.1 in /usr/local/lib/python3.10/dist-packages (from llama-index-core>=0.11.0->llama_parse) (4.66.5)\n",
            "Requirement already satisfied: typing-extensions>=4.5.0 in /usr/local/lib/python3.10/dist-packages (from llama-index-core>=0.11.0->llama_parse) (4.12.2)\n",
            "Collecting typing-inspect>=0.8.0 (from llama-index-core>=0.11.0->llama_parse)\n",
            "  Downloading typing_inspect-0.9.0-py3-none-any.whl.metadata (1.5 kB)\n",
            "Requirement already satisfied: wrapt in /usr/local/lib/python3.10/dist-packages (from llama-index-core>=0.11.0->llama_parse) (1.16.0)\n",
            "Requirement already satisfied: aiohappyeyeballs>=2.3.0 in /usr/local/lib/python3.10/dist-packages (from aiohttp<4.0.0,>=3.8.6->llama-index-core>=0.11.0->llama_parse) (2.4.0)\n",
            "Requirement already satisfied: aiosignal>=1.1.2 in /usr/local/lib/python3.10/dist-packages (from aiohttp<4.0.0,>=3.8.6->llama-index-core>=0.11.0->llama_parse) (1.3.1)\n",
            "Requirement already satisfied: attrs>=17.3.0 in /usr/local/lib/python3.10/dist-packages (from aiohttp<4.0.0,>=3.8.6->llama-index-core>=0.11.0->llama_parse) (24.2.0)\n",
            "Requirement already satisfied: frozenlist>=1.1.1 in /usr/local/lib/python3.10/dist-packages (from aiohttp<4.0.0,>=3.8.6->llama-index-core>=0.11.0->llama_parse) (1.4.1)\n",
            "Requirement already satisfied: multidict<7.0,>=4.5 in /usr/local/lib/python3.10/dist-packages (from aiohttp<4.0.0,>=3.8.6->llama-index-core>=0.11.0->llama_parse) (6.0.5)\n",
            "Requirement already satisfied: yarl<2.0,>=1.0 in /usr/local/lib/python3.10/dist-packages (from aiohttp<4.0.0,>=3.8.6->llama-index-core>=0.11.0->llama_parse) (1.9.4)\n",
            "Requirement already satisfied: async-timeout<5.0,>=4.0 in /usr/local/lib/python3.10/dist-packages (from aiohttp<4.0.0,>=3.8.6->llama-index-core>=0.11.0->llama_parse) (4.0.3)\n",
            "Requirement already satisfied: click in /usr/local/lib/python3.10/dist-packages (from nltk>3.8.1->llama-index-core>=0.11.0->llama_parse) (8.1.7)\n",
            "Requirement already satisfied: joblib in /usr/local/lib/python3.10/dist-packages (from nltk>3.8.1->llama-index-core>=0.11.0->llama_parse) (1.4.2)\n",
            "Requirement already satisfied: regex>=2021.8.3 in /usr/local/lib/python3.10/dist-packages (from nltk>3.8.1->llama-index-core>=0.11.0->llama_parse) (2024.5.15)\n",
            "Requirement already satisfied: annotated-types>=0.4.0 in /usr/local/lib/python3.10/dist-packages (from pydantic<3.0.0,>=2.7.0->llama-index-core>=0.11.0->llama_parse) (0.7.0)\n",
            "Requirement already satisfied: pydantic-core==2.20.1 in /usr/local/lib/python3.10/dist-packages (from pydantic<3.0.0,>=2.7.0->llama-index-core>=0.11.0->llama_parse) (2.20.1)\n",
            "Requirement already satisfied: charset-normalizer<4,>=2 in /usr/local/lib/python3.10/dist-packages (from requests>=2.31.0->llama-index-core>=0.11.0->llama_parse) (3.3.2)\n",
            "Requirement already satisfied: idna<4,>=2.5 in /usr/local/lib/python3.10/dist-packages (from requests>=2.31.0->llama-index-core>=0.11.0->llama_parse) (3.8)\n",
            "Requirement already satisfied: urllib3<3,>=1.21.1 in /usr/local/lib/python3.10/dist-packages (from requests>=2.31.0->llama-index-core>=0.11.0->llama_parse) (2.0.7)\n",
            "Requirement already satisfied: certifi>=2017.4.17 in /usr/local/lib/python3.10/dist-packages (from requests>=2.31.0->llama-index-core>=0.11.0->llama_parse) (2024.8.30)\n",
            "Requirement already satisfied: greenlet!=0.4.17 in /usr/local/lib/python3.10/dist-packages (from SQLAlchemy>=1.4.49->SQLAlchemy[asyncio]>=1.4.49->llama-index-core>=0.11.0->llama_parse) (3.0.3)\n",
            "Collecting mypy-extensions>=0.3.0 (from typing-inspect>=0.8.0->llama-index-core>=0.11.0->llama_parse)\n",
            "  Downloading mypy_extensions-1.0.0-py3-none-any.whl.metadata (1.1 kB)\n",
            "Collecting marshmallow<4.0.0,>=3.18.0 (from dataclasses-json->llama-index-core>=0.11.0->llama_parse)\n",
            "  Downloading marshmallow-3.22.0-py3-none-any.whl.metadata (7.2 kB)\n",
            "Requirement already satisfied: anyio in /usr/local/lib/python3.10/dist-packages (from httpx->llama-index-core>=0.11.0->llama_parse) (3.7.1)\n",
            "Collecting httpcore==1.* (from httpx->llama-index-core>=0.11.0->llama_parse)\n",
            "  Downloading httpcore-1.0.5-py3-none-any.whl.metadata (20 kB)\n",
            "Requirement already satisfied: sniffio in /usr/local/lib/python3.10/dist-packages (from httpx->llama-index-core>=0.11.0->llama_parse) (1.3.1)\n",
            "Collecting h11<0.15,>=0.13 (from httpcore==1.*->httpx->llama-index-core>=0.11.0->llama_parse)\n",
            "  Downloading h11-0.14.0-py3-none-any.whl.metadata (8.2 kB)\n",
            "Requirement already satisfied: packaging>=17.0 in /usr/local/lib/python3.10/dist-packages (from marshmallow<4.0.0,>=3.18.0->dataclasses-json->llama-index-core>=0.11.0->llama_parse) (24.1)\n",
            "Requirement already satisfied: exceptiongroup in /usr/local/lib/python3.10/dist-packages (from anyio->httpx->llama-index-core>=0.11.0->llama_parse) (1.2.2)\n",
            "Downloading llama_parse-0.5.5-py3-none-any.whl (10 kB)\n",
            "Downloading llama_index_core-0.11.8-py3-none-any.whl (1.6 MB)\n",
            "\u001b[2K   \u001b[90m━━━━━━━━━━━━━━━━━━━━━━━━━━━━━━━━━━━━━━━━\u001b[0m \u001b[32m1.6/1.6 MB\u001b[0m \u001b[31m20.7 MB/s\u001b[0m eta \u001b[36m0:00:00\u001b[0m\n",
            "\u001b[?25hDownloading Deprecated-1.2.14-py2.py3-none-any.whl (9.6 kB)\n",
            "Downloading dirtyjson-1.0.8-py3-none-any.whl (25 kB)\n",
            "Downloading nltk-3.9.1-py3-none-any.whl (1.5 MB)\n",
            "\u001b[2K   \u001b[90m━━━━━━━━━━━━━━━━━━━━━━━━━━━━━━━━━━━━━━━━\u001b[0m \u001b[32m1.5/1.5 MB\u001b[0m \u001b[31m52.0 MB/s\u001b[0m eta \u001b[36m0:00:00\u001b[0m\n",
            "\u001b[?25hDownloading tenacity-8.5.0-py3-none-any.whl (28 kB)\n",
            "Downloading tiktoken-0.7.0-cp310-cp310-manylinux_2_17_x86_64.manylinux2014_x86_64.whl (1.1 MB)\n",
            "\u001b[2K   \u001b[90m━━━━━━━━━━━━━━━━━━━━━━━━━━━━━━━━━━━━━━━━\u001b[0m \u001b[32m1.1/1.1 MB\u001b[0m \u001b[31m37.3 MB/s\u001b[0m eta \u001b[36m0:00:00\u001b[0m\n",
            "\u001b[?25hDownloading typing_inspect-0.9.0-py3-none-any.whl (8.8 kB)\n",
            "Downloading dataclasses_json-0.6.7-py3-none-any.whl (28 kB)\n",
            "Downloading httpx-0.27.2-py3-none-any.whl (76 kB)\n",
            "\u001b[2K   \u001b[90m━━━━━━━━━━━━━━━━━━━━━━━━━━━━━━━━━━━━━━━━\u001b[0m \u001b[32m76.4/76.4 kB\u001b[0m \u001b[31m5.6 MB/s\u001b[0m eta \u001b[36m0:00:00\u001b[0m\n",
            "\u001b[?25hDownloading httpcore-1.0.5-py3-none-any.whl (77 kB)\n",
            "\u001b[2K   \u001b[90m━━━━━━━━━━━━━━━━━━━━━━━━━━━━━━━━━━━━━━━━\u001b[0m \u001b[32m77.9/77.9 kB\u001b[0m \u001b[31m5.1 MB/s\u001b[0m eta \u001b[36m0:00:00\u001b[0m\n",
            "\u001b[?25hDownloading marshmallow-3.22.0-py3-none-any.whl (49 kB)\n",
            "\u001b[2K   \u001b[90m━━━━━━━━━━━━━━━━━━━━━━━━━━━━━━━━━━━━━━━━\u001b[0m \u001b[32m49.3/49.3 kB\u001b[0m \u001b[31m3.0 MB/s\u001b[0m eta \u001b[36m0:00:00\u001b[0m\n",
            "\u001b[?25hDownloading mypy_extensions-1.0.0-py3-none-any.whl (4.7 kB)\n",
            "Downloading h11-0.14.0-py3-none-any.whl (58 kB)\n",
            "\u001b[2K   \u001b[90m━━━━━━━━━━━━━━━━━━━━━━━━━━━━━━━━━━━━━━━━\u001b[0m \u001b[32m58.3/58.3 kB\u001b[0m \u001b[31m3.1 MB/s\u001b[0m eta \u001b[36m0:00:00\u001b[0m\n",
            "\u001b[?25hInstalling collected packages: dirtyjson, tenacity, nltk, mypy-extensions, marshmallow, h11, deprecated, typing-inspect, tiktoken, httpcore, httpx, dataclasses-json, llama-index-core, llama_parse\n",
            "  Attempting uninstall: tenacity\n",
            "    Found existing installation: tenacity 9.0.0\n",
            "    Uninstalling tenacity-9.0.0:\n",
            "      Successfully uninstalled tenacity-9.0.0\n",
            "  Attempting uninstall: nltk\n",
            "    Found existing installation: nltk 3.8.1\n",
            "    Uninstalling nltk-3.8.1:\n",
            "      Successfully uninstalled nltk-3.8.1\n",
            "Successfully installed dataclasses-json-0.6.7 deprecated-1.2.14 dirtyjson-1.0.8 h11-0.14.0 httpcore-1.0.5 httpx-0.27.2 llama-index-core-0.11.8 llama_parse-0.5.5 marshmallow-3.22.0 mypy-extensions-1.0.0 nltk-3.9.1 tenacity-8.5.0 tiktoken-0.7.0 typing-inspect-0.9.0\n"
          ]
        }
      ],
      "source": [
        "\n",
        "%pip install llama_parse\n"
      ]
    },
    {
      "cell_type": "code",
      "source": [
        "import nest_asyncio\n",
        "nest_asyncio.apply()"
      ],
      "metadata": {
        "id": "peZpAWeyVAOq"
      },
      "execution_count": 5,
      "outputs": []
    },
    {
      "cell_type": "code",
      "source": [
        "import os\n",
        "\n",
        "os.environ[\"LLAMA_CLOUD_API_KEY\"] = \"llx-VheAT69M7ljNj142ZRpxxns2hEJrNrBn4H9YLMaW6NOoYhXP\""
      ],
      "metadata": {
        "id": "v5SAG2BPVBjY"
      },
      "execution_count": 6,
      "outputs": []
    },
    {
      "cell_type": "code",
      "source": [
        "from llama_parse import LlamaParse\n",
        "\n",
        "document = LlamaParse(result_type=\"markdown\").load_data(\"/content/Mohan Vemulakonda (2).pdf\")"
      ],
      "metadata": {
        "colab": {
          "base_uri": "https://localhost:8080/"
        },
        "id": "qtGGUxgOVDcP",
        "outputId": "4d155f75-89ae-4561-9767-5b8103d3640e"
      },
      "execution_count": 7,
      "outputs": [
        {
          "output_type": "stream",
          "name": "stdout",
          "text": [
            "Error while parsing the file '/content/Mohan Vemulakonda (2).pdf': [Errno 2] No such file or directory: '/content/Mohan Vemulakonda (2).pdf'\n"
          ]
        }
      ]
    },
    {
      "cell_type": "code",
      "source": [
        "from llama_parse import LlamaParse\n",
        "\n",
        "document = LlamaParse(result_type=\"markdown\").load_data(\"/content/Schemetics.pdf\")"
      ],
      "metadata": {
        "colab": {
          "base_uri": "https://localhost:8080/"
        },
        "id": "HKYUJkl6X2Jy",
        "outputId": "cd87dfe7-273d-4152-82ce-dcfa74a5819d"
      },
      "execution_count": 8,
      "outputs": [
        {
          "output_type": "stream",
          "name": "stdout",
          "text": [
            "Error while parsing the file '/content/Schemetics.pdf': [Errno 2] No such file or directory: '/content/Schemetics.pdf'\n"
          ]
        }
      ]
    },
    {
      "cell_type": "code",
      "source": [
        "from llama_parse import LlamaParse\n",
        "\n",
        "document = LlamaParse(result_type=\"markdown\").load_data(\"/content/ToolsUnitedfactsheet.pdf\")"
      ],
      "metadata": {
        "colab": {
          "base_uri": "https://localhost:8080/"
        },
        "id": "Y9-PHXcKtw8B",
        "outputId": "a4c16f69-16f6-4885-c27d-23ae807638b7"
      },
      "execution_count": null,
      "outputs": [
        {
          "output_type": "stream",
          "name": "stdout",
          "text": [
            "Started parsing the file under job_id 46a6ef7f-e38c-4347-9fb6-144e97268fab\n",
            "."
          ]
        }
      ]
    },
    {
      "cell_type": "code",
      "source": [
        "from llama_parse import LlamaParse\n",
        "\n",
        "document = LlamaParse(result_type=\"markdown\").load_data(\"/content/supreme_wrapping_film_product_overview_de.pdf\")"
      ],
      "metadata": {
        "colab": {
          "base_uri": "https://localhost:8080/"
        },
        "id": "rxe9nuDpL8Na",
        "outputId": "a650fbb3-8246-461b-edbc-ca24d10ee786"
      },
      "execution_count": null,
      "outputs": [
        {
          "output_type": "stream",
          "name": "stdout",
          "text": [
            "Started parsing the file under job_id d140dfeb-ee82-4dc4-bf81-e06c1704046c\n",
            ".."
          ]
        }
      ]
    },
    {
      "cell_type": "code",
      "source": [
        "from llama_parse import LlamaParse\n",
        "\n",
        "document = LlamaParse(result_type=\"markdown\").load_data(\"/content/ALFA_ROMEO.pdf\")"
      ],
      "metadata": {
        "colab": {
          "base_uri": "https://localhost:8080/"
        },
        "id": "pdjCTZnsb11Y",
        "outputId": "b050eb32-7540-4e46-fcf9-94c630c3213d"
      },
      "execution_count": 9,
      "outputs": [
        {
          "output_type": "stream",
          "name": "stdout",
          "text": [
            "Started parsing the file under job_id 5e8a52a9-e6cf-4686-abee-fd9c6797e0ba\n",
            "."
          ]
        }
      ]
    },
    {
      "cell_type": "code",
      "source": [
        "document\n"
      ],
      "metadata": {
        "colab": {
          "base_uri": "https://localhost:8080/"
        },
        "collapsed": true,
        "id": "oFHsNn4ZWJie",
        "outputId": "cd1b7b06-dd3d-4209-8b5a-5bcc03d9cf51"
      },
      "execution_count": 10,
      "outputs": [
        {
          "output_type": "execute_result",
          "data": {
            "text/plain": [
              "[Document(id_='86ea6966-5101-4330-a03b-9fda367fa8d8', embedding=None, metadata={}, excluded_embed_metadata_keys=[], excluded_llm_metadata_keys=[], relationships={}, text='orjinautomotive.com  1', mimetype='text/plain', start_char_idx=None, end_char_idx=None, text_template='{metadata_str}\\n\\n{content}', metadata_template='{key}: {value}', metadata_seperator='\\n'),\n",
              " Document(id_='ebae8c14-ca6e-4d9c-a267-06d0f0a98f1e', embedding=None, metadata={}, excluded_embed_metadata_keys=[], excluded_llm_metadata_keys=[], relationships={}, text='# ALFA ROMEO\\n\\n# Models\\n\\n|Model|Production Period|\\n|---|---|\\n|ALFA 75 (162B)|05/1985-12/1992|\\n|ALFA 90 (162)|10/1984-07/1987|\\n\\n# Parts List\\n\\n|Ref|Old Code|CODE|Description|OE – Number|OE – Number|FEATURES|\\n|---|---|---|---|---|---|---|\\n|1|FI097|00304|Tie rod end|116002404100|116002404101|Female-M10x1,25-|\\n|2|AR019|00023|Axial joint|60521693|117022300200|M14x1,5-M14x1,5|\\n|3|AR020|00024|Axial joint|116002404004|1935725000|-|\\n|4|AR016|00020|Ball joint|116002101900|116002101908|Lower|\\n|5|AR018|00022|Ball joint|116002104212|116462109800|Upper|', mimetype='text/plain', start_char_idx=None, end_char_idx=None, text_template='{metadata_str}\\n\\n{content}', metadata_template='{key}: {value}', metadata_seperator='\\n'),\n",
              " Document(id_='0725810a-a829-403c-9a57-aad6fdef810c', embedding=None, metadata={}, excluded_embed_metadata_keys=[], excluded_llm_metadata_keys=[], relationships={}, text='# ALFA ROMEO\\n\\n# 1\\n\\n|Ref|Old CODE|Description|OE – Number|FEATURES|\\n|---|---|---|---|---|\\n|1|FI036 00251|Stabilizer link|60570627|M10x1,25-99 mm|\\n|2|AR026 00027|Tie rod end|9947720|-|\\n|3|- 00219|Tie rod end-L|60565706|M10x1,25-Female-M12x1,5-128 mm|\\n|4|- 00220|Tie rod end-R|60565705|M10x1,25-Female-M12x1,5-128 mm|\\n|5|- 01584|Tie rod end-L|60608979|M10x1,25-Female-M18x1,5-256 mm|\\n|6|- 02331|Tie rod end-R|60608980|M10x1,25-Female-M18x1,5-256 mm|\\n|7|- 01612|Tie rod end-L|9947765|-|\\n|8|- 01611|Tie rod end-R|9947764|-|\\n|9|AR021 00025|Axial joint|9944452|M12x1,5-M14x1,5|\\n|10|- 01625|Axial joint|9947718|M14x1,5-M14x1,5|\\n|11|FI104-L 00309|Control arm complete-L|46744556|Ø17-326,5|\\n|12|FI104-R 00310|Control arm complete-R|46474557|Ø17-326,5 mm|\\n|13|FI028-L 00238|Bushing-L|7601065|-|\\n|14|FI028-R 00239|Bushing-R|7601068|-|\\n|15|FI034-L 00249|Bushing-L|-|Part of|\\n|16|FI034-R 00250|Bushing-R|-|Part of|', mimetype='text/plain', start_char_idx=None, end_char_idx=None, text_template='{metadata_str}\\n\\n{content}', metadata_template='{key}: {value}', metadata_seperator='\\n'),\n",
              " Document(id_='470ec438-d4e0-4ff3-b5d1-139bb52d3037', embedding=None, metadata={}, excluded_embed_metadata_keys=[], excluded_llm_metadata_keys=[], relationships={}, text='# ALFA ROMEO\\n\\n# 1\\n\\n|Ref|Old code|CODE|Description|OE – Number|OE – Number|FEATURES|\\n|---|---|---|---|---|---|---|\\n|1|FI036|00251|Stabilizer link|60570627|116002404101|M10x1,25-99 mm|\\n|2|AR026|00027|Tie rod end|9947720|-|-|\\n|3|FI006|00223|Tie rod end|98845030|-|Female-M14x1,5-107 mm|\\n|4|FI003-L|00219|Tie rod end-L|9947437|60809612|Female-M12x1,5-128 mm|\\n|5|FI003-R|00220|Tie rod end-R|9947438|60809613|Female-M12x1,5-128 mm|\\n|6|AR021|00025|Axial joint|9944452|9950452|M12x1,5-M14x1,5|\\n|7|-|01625|Axial joint|9947718|9950786|M14x1,5-M14x1,5|\\n|8|FI104-L|00309|Control arm|46744556|93501144|Ø17-326,5 complete-L|\\n|9|FI104-R|00310|Control arm complete-R|46474557|60813044|Ø17-326,5 mm|\\n|10|FI028-L|00238|Bushing-L|7601065|-|-|\\n|11|FI028-R|00239|Bushing-R|7601068|-|-|\\n|12|FI034-L|00249|Bushing-L|-|-|Part of|\\n|13|FI034-R|00250|Bushing-R|46474557|-|Part of|', mimetype='text/plain', start_char_idx=None, end_char_idx=None, text_template='{metadata_str}\\n\\n{content}', metadata_template='{key}: {value}', metadata_seperator='\\n'),\n",
              " Document(id_='6ddcc72b-4f11-4efc-84b1-9b5deaf05d38', embedding=None, metadata={}, excluded_embed_metadata_keys=[], excluded_llm_metadata_keys=[], relationships={}, text='# ALFA ROMEO\\n\\n| | | |1|00001|1|00001| | | | | |\\n|---|---|---|---|---|---|---|---|---|---|---|---|\\n| |12|05726| | | |13|05727| | | | |\\n| |3|00006| | |7|00008|4|00007| | | |\\n|7|00008| |5|05718| |6|05719| | | | |\\n|03/2007 ->| | | |19|05724| |21|05725| | | |\\n| | | |18|05722|20|05723|8|00028| |9|00029|\\n|15|05721| | |15|05721| | | | | | |\\n|14|05720| |10|02374| |11|02375| | | | |\\n|2|00002| |16|05728| |16|05728| | | | |\\n| | | |17|05729| | |17|05729| | | |\\n\\norjinautomotive.com', mimetype='text/plain', start_char_idx=None, end_char_idx=None, text_template='{metadata_str}\\n\\n{content}', metadata_template='{key}: {value}', metadata_seperator='\\n'),\n",
              " Document(id_='4369f725-f53f-43a9-8f1a-12c6b1e33ff3', embedding=None, metadata={}, excluded_embed_metadata_keys=[], excluded_llm_metadata_keys=[], relationships={}, text='# ALFA ROMEO\\n\\n|Ref|Old code|CODE|Description|OE – Number|OE – Number|FEATURES|Ref|Old code|CODE|Description|OE – Number|OE – Number|FEATURES| | | | | | |\\n|---|---|---|---|---|---|---|---|---|---|---|---|---|---|---|---|---|---|---|---|\\n|1|AR001|00001|Stabilizer link|46843389|116002404101|M10x1,5-122,5 mm| |11|-|02375|complete-R|60651940|60657246|M10x1.25-147 mm| | | | | |\\n|2|AR002|00002|Stabilizer link|60613575|-|M10x1,25-180 mm| |12|-|05726|Track rod-L|51777717|60651935|-| | | | | |\\n| | | | | |3|AR005-L|00006|Tie rod end-L|9947919|-|M10x1.25-M14X1.5-77 mm| |13|-|05727|Track rod-R|51777718|60651934|-|\\n| | | | |4|AR005-R|00007|Tie rod end-R|9947920|-|M10x1.25-M14X1.5-77 mm| |14|-|05720|Bushing|Part of|60666021|-| |\\n| | | | |5|-|05718|Tie rod end-L|77364521|-| | |15|-|05721|Bushing|Part of|-|Lower| |\\n| | | | | |6|-|05719|Tie rod end-R|77364522|-| | |16|-|05728|Bushing|60651935|-|-|\\n|7|AR006|00008|Axial joint|9947923|-|M14x1,5-M16x1,5| |17|-|05729|Bushing|46402825|60682636|-| | | | | |\\n|8|AR027-L|00028|Control arm|60652465|60686891|M14x1.5-251 mm| |18|-|05722|Bushing-L|60686891|-|Lower| | | | | |\\n|9|AR027-R|00029|complete-R|60652466|60686892|mm| |19|-|05724|Bushing-L|60686891|-|Lower| | | | | |\\n|10|-|02374|Control arm|60651939|60657245|M10x1.25-147 mm| |20|-|05723|Bushing-R|60686892|-|Lower| | | | | |\\n| | | | | | | | |21|-|05725|Bushing-R| |-|Lower| | | | | |', mimetype='text/plain', start_char_idx=None, end_char_idx=None, text_template='{metadata_str}\\n\\n{content}', metadata_template='{key}: {value}', metadata_seperator='\\n'),\n",
              " Document(id_='637d6552-fb5a-486f-bfaa-f1fef3b91674', embedding=None, metadata={}, excluded_embed_metadata_keys=[], excluded_llm_metadata_keys=[], relationships={}, text='# ALFA ROMEO\\n\\n|Ref|Old code|CODE|Description|OE – Number|OE – Number|FEATURES|\\n|---|---|---|---|---|---|---|\\n|1|FI036|00251|Stabilizer link|60570627|116002404101|M10x1,25-99 mm|\\n|2|FI006|00223|Tie rod end|98845030|-|Female-M14x1,5-107 mm|\\n|3|FI003-L|00219|Tie rod end-L|9947437|60809612|Female-M12x1,5-128 mm|\\n|4|FI003-R|00220|Tie rod end-R|9947438|60809613|Female-M12x1,5-128 mm|\\n|5|-|01612|Tie rod end-L|9947765|-|-|\\n|6|-|01611|Tie rod end-R|9947764|-|-|\\n|7|AR021|00025|Axial joint|9944452|9950452|M12x1,5-M14x1,5|\\n|8|-|01566|Axial joint|9939557|9947361|M12x1,5-M14x1,5|\\n|9|-|01625|Axial joint|9947718|9950786|M14x1,5-292 mm|\\n|10|FI104-L|00309|Control arm|46744556|93501144|Ø17-326,5|\\n|11|FI104-R|00310|Control arm|46474557|60813044|Ø17-326,5 mm|\\n|12|FI028-L|00238|Bushing-L|7601065|-|-|\\n|13|FI028-R|00239|Bushing-R|7601068|-|Part of 46744556|\\n|14|FI034-L|00249|Bushing-L|-|-|Part of|\\n|15|FI034-R|00250|Bushing-R|46474557|-|-|', mimetype='text/plain', start_char_idx=None, end_char_idx=None, text_template='{metadata_str}\\n\\n{content}', metadata_template='{key}: {value}', metadata_seperator='\\n'),\n",
              " Document(id_='5d469380-c22b-4c48-9b50-7f0fb5c453e3', embedding=None, metadata={}, excluded_embed_metadata_keys=[], excluded_llm_metadata_keys=[], relationships={}, text='# 156 (932) (09/1997-05/2006) ALFA ROMEO\\n\\n|Ref|Old code|CODE|Description|OE – Number|OE – Number|FEATURES|\\n|---|---|---|---|---|---|---|\\n|1|AR001|00001|Stabilizer link|46843389|116002404101|M10x1,5-122,5 mm Rear-|\\n|2|AR002|00002|Stabilizer link|60613575|-|M10x1,25-180 mm|\\n|3|AR005-L|00006|Tie rod end-L|9947919|-|M10x1.25-M14X1.5-77 mm|\\n|4|AR005-R|00007|Tie rod end-R|9947920|-|M10x1.25-M14X1.5-77 mm|\\n|5|AR006|00008|Axial joint|9947923|-|M14x1,5-M16x1,5|\\n|6|AR027-L|00028|Control arm complete-L|60652465|60686891|M14x1.5-251 mm|\\n|7|AR027-R|00029|Control arm complete-R|60652466|60686892|M14x1.5-251 mm|\\n|8|-|02374|Control arm complete-L|60651939|60657245|M10x1.25-147 mm|\\n|9|-|02375|Control arm complete-R|60651940|60657246|M10x1.25-147 mm|\\n|10|-|05726|Track rod-L|51777717|60651935|-|\\n|11|-|05727|Track rod-R|51777718|60651934|-|\\n|12|-|05720|Bushing|-|-|Part of Lower|\\n|13|-|05721|Bushing|-|-|Part of Lower|\\n|14|-|05722|Bushing-L|-|-|Part of Lower|\\n|15|-|05723|Bushing-R|-|-|Part of Lower|\\n|16|-|05724|Bushing-L|-|-|Part of Lower|\\n|17|-|05725|Bushing-R|-|-|Part of Lower|\\n|18|-|05728|Bushing|60651935|-|Part of Lower|\\n|19|-|05729|Bushing|46402825|60682636|-|', mimetype='text/plain', start_char_idx=None, end_char_idx=None, text_template='{metadata_str}\\n\\n{content}', metadata_template='{key}: {value}', metadata_seperator='\\n'),\n",
              " Document(id_='95bc92ac-f27d-455c-8f6c-01ae7cfd64eb', embedding=None, metadata={}, excluded_embed_metadata_keys=[], excluded_llm_metadata_keys=[], relationships={}, text='|Index|Code|\\n|---|---|\\n|1|02541|\\n|2|02542|\\n|7|02176|\\n|5|02545|\\n|8|05746|\\n|6|02546|\\n|9|02460|\\n|10|02461|\\n|11|05747|\\n|12|05748|\\n|13|05750|\\n|14|02149|\\n|15|02150|\\n|16|05751|\\n|18|05749|\\n|20|02152|\\n|21|02153|\\n|22|02151|\\n\\norjinautomotive.com', mimetype='text/plain', start_char_idx=None, end_char_idx=None, text_template='{metadata_str}\\n\\n{content}', metadata_template='{key}: {value}', metadata_seperator='\\n'),\n",
              " Document(id_='da33041b-c5b5-44c8-b689-95471dc8c934', embedding=None, metadata={}, excluded_embed_metadata_keys=[], excluded_llm_metadata_keys=[], relationships={}, text='# ALFA ROMEO\\n\\n|Ref|Old code|CODE|Description|OE – Number|OE – Number|FEATURES|Ref|Old code|CODE|Description|OE – Number|OE – Number|FEATURES|\\n|---|---|---|---|---|---|---|---|---|---|---|---|---|---|\\n|1|-|02541|Stabilizer link-L|50704361|116002404101|M12x1,75-102 mm|12|-|02463|Control arm|50704307|71749328|M14x1.5-341,5 mm|\\n|2|-|02542|Stabilizer link-R|50704362|51795455|M12x1,75-102 mm|13|-|05747|Upper Control|51817623|51835397|-|\\n|3|-|02543|Stabilizer link-L|50704680|51795705|M12x1,75-116 mm|14|-|05748|Upper control|51817624|51835398|-|\\n|4|-|02544|Stabilizer link-R|50704681|51795706|M12x1,75-116 mm|15|-|05750|Track rod|50705032|51795575|Rear 71746513|\\n|5|-|02545|Tie rod end-L|77363706|77363706|-|17|-|02150|Bushing|71746513|-|-|\\n|6|-|02546|Tie rod end-R|77363707|-|-|18|-|05749|Bushing|-|-|-|\\n|7|-|02176|Axial joint|-|M16x1,5-213,5 mm|Part of|19|-|05751|Bushing|-|-|Part of|\\n|8|-|05746|Axial joint|77364750|-|-|20|-|02152|Bushing-L|-|-|Part of|\\n|9|-|02460|Upper Control|51787337|71746512|M10x1.25-194,8 mm|21|-|02153|Bushing-R|-|-|Part of|\\n|10|-|02461|Upper control|51787336|71746513|M10x1.25-194,8 mm|22|-|2151|Bushing|50704306|50704307|-|\\n|11|-|02462|Control arm|50704306|71749327|M14x1.5-341,5 mm|-|-|-|-|-|-|-|', mimetype='text/plain', start_char_idx=None, end_char_idx=None, text_template='{metadata_str}\\n\\n{content}', metadata_template='{key}: {value}', metadata_seperator='\\n'),\n",
              " Document(id_='15a65cf9-fd66-420b-891e-214e09c4f383', embedding=None, metadata={}, excluded_embed_metadata_keys=[], excluded_llm_metadata_keys=[], relationships={}, text='# ALFA ROMEO\\n\\n# 164 (164) (01/1987-01/1992)\\n\\n# 164 (168) (01/1992-01/1998)\\n\\n|Ref|Old code|CODE|Description|OE – Number|OE – Number|FEATURES|\\n|---|---|---|---|---|---|---|\\n|1|-|01653|Stabilizer link|60801409|116002404101|Rear|\\n|2|-|02174|Stabilizer link|60570365|60801355|-|\\n|3|AR008|00010|Tie rod end|60507918|82460439|-|\\n|4|AR009|00011|Axial joint|164002302801|9945566|M14x1,5-M14x1,5|\\n|5|AR013-L|00014|Control arm|60588843|82480038|ø13 complete-L|\\n|6|AR013-R|00015|Control arm|60588844|82480039|ø13 complete-R|\\n|7|-|00016|Control arm|60510363|60588845|ø15|\\n|8|-|00017|Control arm|60510362|60588846|ø15 complete-R|\\n|9|AR010|00012|Ball joint|60510360|60510360|ø15|\\n|10|AR011|00013|Ball joint|60566661|82459170|ø13|\\n|11|-|01684|Bushing|60510361|82480037|-|\\n|12|-|02177|Bushing|82427260|82427260|-|', mimetype='text/plain', start_char_idx=None, end_char_idx=None, text_template='{metadata_str}\\n\\n{content}', metadata_template='{key}: {value}', metadata_seperator='\\n'),\n",
              " Document(id_='6bb5124e-f128-47e2-8f3c-a5295d7e038c', embedding=None, metadata={}, excluded_embed_metadata_keys=[], excluded_llm_metadata_keys=[], relationships={}, text='# ALFA ROMEO\\n\\n|Ref|Old code|CODE|Description|OE – Number|OE – Number|FEATURES|\\n|---|---|---|---|---|---|---|\\n|1|AR003|00003|Stabilizer link|60630757|116002404101|M10x1,5-145 mm|\\n|2|AR004-L|00004|Stabilizer link-L|60628284|-|Rear-M10x1,5-95 mm|\\n|3|AR004-R|00005|Stabilizer link-R|60628255|-|Rear-M10x1,5-95 mm|\\n|4|-|01659|Stabilizer link-L|60628294|-|Rear|\\n|5|-|01657|Stabilizer link-R|60628295|-|Rear|\\n|6|AR005-L|00006|Tie rod end-L|9947919|-|M14X1.5-77 mm|\\n|7|AR005-R|00007|Tie rod end-R|9947920|-|M14X1.5-77 mm|\\n|8|AR007|00009|Axial joint|9948297|9948905|M14x1,5-M16x1,5|\\n|9|-|02456|Control arm|60627290|60695895|M14x1,5-333 mm|\\n|10|-|02457|Control arm|60627291|60695896|M14x1,5-333 mm|\\n|11|-|02458|Track Control arm-L|60666021|-|M10x1.25-165 mm|\\n|12|-|02459|Track Control arm-R|60666020|-|M10x1.25-165 mm|\\n|13|-|03682|Bushing|2013520027|-|-|\\n|14|-|05740|Bushing|60666021|-|-|\\n|15|-|05743|Bushing|60695896|-|Part of Rear|\\n|16|-|05744|Bushing|60695896|-|Part of Rear|\\n|17|-|05745|Bushing|60695896|-|Part of Rear|', mimetype='text/plain', start_char_idx=None, end_char_idx=None, text_template='{metadata_str}\\n\\n{content}', metadata_template='{key}: {value}', metadata_seperator='\\n'),\n",
              " Document(id_='cba904f6-95cc-4d52-ad51-be2cd2042f91', embedding=None, metadata={}, excluded_embed_metadata_keys=[], excluded_llm_metadata_keys=[], relationships={}, text='# ALFETTA (116) ALFA ROMEO 07/1974-12/1984\\n\\n# ALFETTA GT (116) 01/1974-01/1986\\n\\n# GIULIETTA (116) 10/1977-12/1985\\n\\n|Ref|Old code|CODE|Description|OE – Number|OE – Number|FEATURES|\\n|---|---|---|---|---|---|---|\\n|1|FI097|00304|Tie rod end|116002404100|116002404101|Female-M10x1,25-72 mm|\\n|2|AR019|00023|Axial joint|60521693|117022300200|M14x1,5-M14x1,5|\\n|4|AR016|00020|Ball joint|116002101900|116002101908|Lower|\\n|5|AR018|00022|Ball joint|116002104212|116462109800|Upper|\\n\\norjinautomotive.com 13', mimetype='text/plain', start_char_idx=None, end_char_idx=None, text_template='{metadata_str}\\n\\n{content}', metadata_template='{key}: {value}', metadata_seperator='\\n'),\n",
              " Document(id_='4a34d21b-8040-4645-9f59-38279ee59223', embedding=None, metadata={}, excluded_embed_metadata_keys=[], excluded_llm_metadata_keys=[], relationships={}, text='# BRERA (01/2006-10/2010) ALFA ROMEO\\n\\n| |1|02541|2|02542| | | | |\\n|---|---|---|---|---|---|---|---|---|\\n|5|02545|7|02176|7|02176|6|02546| |\\n| |8|05746|8|05746| | | | |\\n| | |17|02150| | | | | |\\n| |9|02460|16|02149|10|02461| | |\\n| | |19|05749| | | | | |\\n|18|02151|18|02151| | | | | |\\n| |11|02462|21|02152|22|02153|12|02463|\\n| | |17|02150| | | | | |\\n| |13|05747|16|02149|14|05748| | |\\n|15|05750| | |15|05750| | | |\\n|20|05751|3|02543|4|02544|20|05751| |', mimetype='text/plain', start_char_idx=None, end_char_idx=None, text_template='{metadata_str}\\n\\n{content}', metadata_template='{key}: {value}', metadata_seperator='\\n'),\n",
              " Document(id_='06179abd-9fb4-4bc5-a8ab-9ed147ff835d', embedding=None, metadata={}, excluded_embed_metadata_keys=[], excluded_llm_metadata_keys=[], relationships={}, text='# BRERA (01/2006-10/2010) ALFA ROMEO\\n\\n|Ref|Old CODE|Description|OE – Number|OE – Number|FEATURES|Ref|Old CODE|Description|OE – Number|OE – Number|FEATURES|\\n|---|---|---|---|---|---|---|---|---|---|---|---|\\n|1|-|02541 Stabilizer link-L|50704361|116002404101|M12x1,75-102 mm|12|-|02463 Control arm|50704307|71749328|M14x1.5-341,5 mm|\\n|2|-|02542 Stabilizer link-R|50704362|51795455|M12x1,75-102 mm|13|-|05747 Upper Control arm complete-L|51817623|51835397|-|\\n|3|-|02543 Stabilizer link-L|50704680|51795705|M12x1,75-116 mm|14|-|05748 Upper control arm complete-R|51817624|51835398|-|\\n|4|-|02544 Stabilizer link-R|50704681|51795706|M12x1,75-116 mm|15|-|05750 Track rod|50705032|51795575|Rear 50704948|\\n|5|-|02545 Tie rod end-L|77363706|-|-|17|-|02150 Bushing|50704948|-|Part of|\\n|6|-|02546 Tie rod end-R|77363707|-|-|18|-|02151 Bushing|-|-|Part of|\\n|7|-|02176 Axial joint|50505978|77363705|M16x1,5-213,5 mm|19|-|05749 Bushing|-|-|Part of|\\n|8|-|05746 Axial joint|50501441|77364750|-|20|-|05751 Bushing|50705032|-|Part of|\\n|9|-|02460 Upper Control arm complete-L|51787337|71746512|M10x1.25-194,8 mm|21|-|02152 Bushing-L|-|-|Part of|\\n|10|-|02461 Upper control arm complete-R|51787336|71746513|M10x1.25-194,8 mm|22|-|02153 Bushing-R|-|-|Part of|\\n|11|-|02462|50704306|71749327|-|-|-|-|-|-|-|\\n\\norjinautomotive.com', mimetype='text/plain', start_char_idx=None, end_char_idx=None, text_template='{metadata_str}\\n\\n{content}', metadata_template='{key}: {value}', metadata_seperator='\\n'),\n",
              " Document(id_='3e85255b-4865-4a4f-ac46-48f4316d5ba2', embedding=None, metadata={}, excluded_embed_metadata_keys=[], excluded_llm_metadata_keys=[], relationships={}, text='# GIULIETTA (940) (04/2010-->) ALFA ROMEO\\n\\n|Ref|Old code|CODE|Description|OE – Number|OE – Number|FEATURES|\\n|---|---|---|---|---|---|---|\\n|1|FI095|00302|Stabilizer link|50515276|116002404101|M10x1,5-301 mm|\\n|2|-|03376|Stabilizer link-L|50515274|-|Rear Control arm|\\n|3|-|03377|Stabilizer link-R|50515275|-|Rear Control arm|\\n|4|-|05730|Tie rod end-L|50520352|-|-|\\n|5|-|05731|Tie rod end-R|50520353|-|-|\\n|6|-|05732|Axial joint|50518204|50522908|Part of|\\n|7|-|05733|complete-L|50513444|-|-|\\n|8|-|05734|complete-R|50513442|-|-|\\n|9|-|05737|Ball joint|50513442|50513444|Lower Part of|\\n|10|-|05634|Bushing|50521045|50521046|Part of|\\n|11|-|05736|Bushing|-|-|Part of|', mimetype='text/plain', start_char_idx=None, end_char_idx=None, text_template='{metadata_str}\\n\\n{content}', metadata_template='{key}: {value}', metadata_seperator='\\n'),\n",
              " Document(id_='da559bf0-552d-49ce-9407-a7f22e4406d7', embedding=None, metadata={}, excluded_embed_metadata_keys=[], excluded_llm_metadata_keys=[], relationships={}, text='# GT (937) (11/2003-09/2010) ALFA ROMEO\\n\\n|Ref|Old code|CODE|Description|OE – Number|OE – Number|FEATURES|Ref|Old code|CODE|Description|OE – Number|OE – Number|FEATURES|\\n|---|---|---|---|---|---|---|---|---|---|---|---|---|---|\\n|1|AR001|00001|Stabilizer link|46843389|116002404101|M10x1,5-122,5 mm|11|-|02375|complete-R|60651940|60657246|M10x1.25-147 mm|\\n|2|AR002|00002|Stabilizer link|60613575|-|M10x1,25-180 mm|12|-|05726|Track rod-L|51777717|60651935|-|\\n|3|AR005-L|00006|Tie rod end-L|9947919|-|M10x1.25-M14X1.5-77 mm|14|-|05720|Bushing|-|Part of|Part of|\\n|4|AR005-R|00007|Tie rod end-R|9947920|-|M10x1.25-M14X1.5-77 mm|15|-|05721|Bushing|-|Part of|Part of|\\n|5|-|05718|Tie rod end-L|77364521|-|-|16|-|05728|Bushing|-|Part of|Part of|\\n|6|-|05719|Tie rod end-R|77364522|-|-|17|-|05729|Bushing|46402825|60682636|-|\\n|7|AR006|00008|Axial joint|9947923|-|M14x1,5-M16x1,5|17|-|05729|Bushing|46402825|60682636|-|\\n|8|AR027-L|00028|Control arm|60652465|60686891|M14x1.5-251 mm|18|-|05722|Bushing-L|60686891|60686891|Lower|\\n|9|AR027-R|00029|Control arm|60652466|60686892|M14x1.5-251 mm|19|-|05724|Bushing-L|60686891|60686891|Lower|\\n|10|-|02374|Control arm|60651939|60657245|M10x1.25-147 mm|21|-|05725|Bushing-R|-|Part of|Part of|\\n\\norjinautomotive.com', mimetype='text/plain', start_char_idx=None, end_char_idx=None, text_template='{metadata_str}\\n\\n{content}', metadata_template='{key}: {value}', metadata_seperator='\\n'),\n",
              " Document(id_='b0bede65-09fb-4e37-aa9b-95cd633b17f7', embedding=None, metadata={}, excluded_embed_metadata_keys=[], excluded_llm_metadata_keys=[], relationships={}, text='# GTV (916C_) (09/1994-01/2006) ALFA ROMEO\\n\\n# 1\\n\\n|00030|V6| | | |\\n|---|---|---|---|---|\\n| |00251| | | |\\n| |00027|2.0 V6 TURBO - 3.0 V6| | |\\n|00223| | | | |\\n|00219|00025|00025| |00220|\\n|03/1995|03/1995|03/1995|03/1995| |\\n|01612|01625|01625| |01611|\\n|2.0 TS 03/1995-05/1995| | | | |\\n| |00249|00250| | |\\n|02175|00238|00239|02175| |\\n| |00309| |00310| |\\n|00018| | | | |\\n|01653|05575|05575|01653| |\\n\\n# Ref\\n\\n|Old code|CODE|Description|OE – Number|FEATURES|Ref|Old code|CODE|Description|OE – Number|FEATURES|\\n|---|---|---|---|---|---|---|---|---|---|---|\\n|1|AR030|00030|Stabilizer link|60614514|116002404101|M10x1,5-272 mm|12|AR021|00025|Axial joint|\\n|2|FI036|00251|Stabilizer link|60570627|60809242|M10x1,25-99 mm|13|-|01625|Axial joint|\\n|3|-|01653|Stabilizer link|60801409|60801409VVD|Rear|14|FI104-L|00309|Control arm|\\n| | | | | | |15|FI104-R|00310|complete-R|46474557|\\n|4|AR015-L|00018|Stabilizer link-L|60612436|-| |16|-|02175|Ball joint|\\n|5|AR015-R|00019|Stabilizer link-R|60612435|-|Rear-M10x1,5-90mm|16|-|05575|Track rod|\\n|6|AR026|00027|Tie rod end|9947720|-| |17|-|05575|Track rod|\\n|7|FI006|00223|Tie rod end|98845030|-|M14x1,5-107 mm|18|FI028-L|00238|Bushing-L|\\n|8|-|00219|Tie rod end-L|60565706|60809612|M12x1,5-128 mm|19|FI028-R|00239|Bushing-R|\\n|9|-|00220|Tie rod end-R|60565705|60809613|M12x1,5-128 mm| | | | |\\n|10|-|01612|Tie rod end-L|9947765|-| |21|FI034-R|00250|Bushing-R|\\n|11|-|01611|Tie rod end-R|9947764|-| | | | | |', mimetype='text/plain', start_char_idx=None, end_char_idx=None, text_template='{metadata_str}\\n\\n{content}', metadata_template='{key}: {value}', metadata_seperator='\\n'),\n",
              " Document(id_='b471c74c-5980-4f71-8068-21cf0894ea99', embedding=None, metadata={}, excluded_embed_metadata_keys=[], excluded_llm_metadata_keys=[], relationships={}, text='# MITO (955) (09/2008-->)\\n\\n# ALFA ROMEO\\n\\n|Ref|Old code|CODE|Description|OE – Number|OE – Number|FEATURES|Ref|Old code|CODE|Description|OE – Number|OE – Number|FEATURES| | | | | |\\n|---|---|---|---|---|---|---|---|---|---|---|---|---|---|---|---|---|---|---|\\n|1|FI095|00302|Stabilizer link|50515276|116002404101|M10x1,5-301 mm|6|-|02811|Control arm|50511650|-|Ø16-338 mm complete-R| | | | | |\\n|2|FI093-L|00299|Tie rod end-L|77363829|1610937180|M14x1,5-112,5 mm|7|-|02812|Control arm|-|-|w/o ball joint-L| | | | | |\\n|3|FI093-R|00300|Tie rod end-R|77363830|1610937280|M14x1,5-112,5 mm|8|-|02813|Control arm|-|-|w/o ball joint-R| | | | | |\\n|4|FI094|00301|Axial joint|1603543|95514914|M14x1,5-M14x1,5|5|-|02810|Control arm|55703629|-|Ø16-338 mm complete-L| | | | | |\\n| |9| | | | |FI090|00297|Ball joint|51783056|51783057|Lower-Ø16 Part of|10|FI088|00295|Bushing|352380|95514537|Small Part of|\\n| | | | | | |11|FI089|00296|Bushing|55700751|55703629|Big Part of| | | | | | |\\n\\norjinautomotive.com', mimetype='text/plain', start_char_idx=None, end_char_idx=None, text_template='{metadata_str}\\n\\n{content}', metadata_template='{key}: {value}', metadata_seperator='\\n'),\n",
              " Document(id_='7aefbedd-5e65-4bcd-bdd6-dd96f484e0f0', embedding=None, metadata={}, excluded_embed_metadata_keys=[], excluded_llm_metadata_keys=[], relationships={}, text='# ALFA ROMEORZ 01/1992-12/1994\\n\\n# SZ 09/1988-08/1994\\n\\n|Ref|Old code|CODE|Description|OE – Number|OE – Number|FEATURES|\\n|---|---|---|---|---|---|---|\\n|Ref|Old code|CODE|Description|OE – Number|OE – Number|FEATURES|\\n|1|FI097|00304|Tie rod end|116002404100|116002404101|M10x1,25-Female-M14x1,5-72 mm|\\n|2|AR019|00023|Axial joint|60521693|117022300200|M14x1,5-M14x1,5|\\n|3|AR016|00020|Ball joint|116002101900|116002101908|Lower|\\n|4|AR018|00022|Ball joint|116002104212|116462109800|Upper|', mimetype='text/plain', start_char_idx=None, end_char_idx=None, text_template='{metadata_str}\\n\\n{content}', metadata_template='{key}: {value}', metadata_seperator='\\n'),\n",
              " Document(id_='6d1c8c9a-1a56-4201-975d-e7745a990a66', embedding=None, metadata={}, excluded_embed_metadata_keys=[], excluded_llm_metadata_keys=[], relationships={}, text='# SPIDER (916S_) (09/1994-01/2006) ALFA ROMEO\\n\\n|Ref|Old CODE|Description|OE – Number|FEATURES|Ref|Old CODE|Description|OE – Number|FEATURES|\\n|---|---|---|---|---|---|---|---|---|---|\\n|1|AR030|Stabilizer link|60614514|M10x1,5-272 mm|12|AR021|00025|Axial joint|9944452|\\n|2|FI036|00251|Stabilizer link|60570627|M10x1,25-99 mm|13|-|01625|Axial joint|\\n|3|-|01653|Stabilizer link|60801409|Rear|14|FI104-L|00309|Control arm|\\n|4|AR015-L|00018|Stabilizer link-L|60612436|-|15|FI104-R|00310|Control arm|\\n|5|AR015-R|00019|Stabilizer link-R|60612435|-|16|-|02175|Ball joint|\\n|6|AR026|00027|Tie rod end|9947720|-|17|-|05575|Track rod|\\n|7|FI006|00223|Tie rod end|98845030|-|18|FI028-L|00238|Bushing-L|\\n|8|-|00219|Tie rod end-L|60565706|60809612|19|FI028-R|00239|Bushing-R|\\n|9|-|00220|Tie rod end-R|60565705|60809613|20|FI034-L|00249|Bushing-L|\\n|10|-|01612|Tie rod end-L|9947765|-|21|FI034-R|00250|Bushing-R|\\n|11|-|01611|Tie rod end-R|9947764|-| | | | |', mimetype='text/plain', start_char_idx=None, end_char_idx=None, text_template='{metadata_str}\\n\\n{content}', metadata_template='{key}: {value}', metadata_seperator='\\n'),\n",
              " Document(id_='701e83ce-240b-4e6a-aeb7-4648d8bdbb44', embedding=None, metadata={}, excluded_embed_metadata_keys=[], excluded_llm_metadata_keys=[], relationships={}, text='# SPIDER (939) (09/2006-10/2010) ALFA ROMEO\\n\\n| | |1|02541|2|02542| | | |\\n|---|---|---|---|---|---|---|---|---|\\n|5|02545| | | |6|02546| | |\\n| | |7|02176|7|02176| | | |\\n| | |8|05746|8|05746| | | |\\n| | | |17 02150| | | | | |\\n| | | |16 02149| | | | | |\\n| | |9|02460|10|02461| | | |\\n| | | |19 05749| | | | | |\\n|18|02151|18|02151| | | | | |\\n| | | |19 05749| | | | | |\\n| |11|02462|21|02152|22|02153|12|02463|\\n| | | |17 02150| | | | | |\\n|13|05747|16|02149|14|05748| | | |\\n| |15|05750|15 05750| | | | | |\\n|20|05751|3|02543|4|02544|20|05751| |', mimetype='text/plain', start_char_idx=None, end_char_idx=None, text_template='{metadata_str}\\n\\n{content}', metadata_template='{key}: {value}', metadata_seperator='\\n'),\n",
              " Document(id_='a6a255ae-5413-4e4e-aaef-e22c4871e208', embedding=None, metadata={}, excluded_embed_metadata_keys=[], excluded_llm_metadata_keys=[], relationships={}, text='# SPIDER (939) (09/2006-10/2010) ALFA ROMEO\\n\\n|Ref|Old code|CODE|Description|OE – Number|OE – Number|FEATURES|Ref|Old code|CODE|Description|OE – Number|OE – Number|FEATURES|\\n|---|---|---|---|---|---|---|---|---|---|---|---|---|---|\\n|1|-|02541|Stabilizer link-L|50704361|116002404101|M12x1,75-102 mm|12|-|02463|Control arm|50704307|71749328|M14x1.5-341,5 mm|\\n|2|-|02542|Stabilizer link-R|50704362|51795455|M12x1,75-102 mm|13|-|05747|Upper Control|51817623|51835397|-|\\n|3|-|02543|Stabilizer link-L|50704680|51795705|M12x1,75-116 mm|14|-|05748|Upper control|51817624|51835398|-|\\n|4|-|02544|Stabilizer link-R|50704681|51795706|M12x1,75-116 mm|15|-|05750|Track rod|50705032|51795575|Rear|\\n|5|-|02545|Tie rod end-L|77363706|-|-|16|-|02149|Bushing|-|-|Part of|\\n|6|-|02546|Tie rod end-R|77363707|-|-|17|-|02150|Bushing|50704948|71746513|Part of|\\n|7|-|02176|Axial joint|50505978|77363705|M20x1,5-|18|-|02151|Bushing|-|-|Part of|\\n|8|-|05746|Axial joint|50501441|77364750|-|19|-|05749|Bushing|-|-|Part of|\\n|9|-|02460|Upper Control|51787337|71746512|M10x1.25-194,8 mm|20|-|05751|Bushing|-|-|Part of|\\n|10|-|02461|Upper control|51787336|71746513|M10x1.25-194,8 mm|21|-|02152|Bushing-L|-|-|Part of|\\n|11|-|02462|Control arm|50704306|71749327|M14x1.5-341,5 mm|22|-|02153|Bushing-R|-|-|Part of|\\n\\norjinautomotive.com', mimetype='text/plain', start_char_idx=None, end_char_idx=None, text_template='{metadata_str}\\n\\n{content}', metadata_template='{key}: {value}', metadata_seperator='\\n')]"
            ]
          },
          "metadata": {},
          "execution_count": 10
        }
      ]
    },
    {
      "cell_type": "code",
      "source": [
        "print(document)"
      ],
      "metadata": {
        "colab": {
          "base_uri": "https://localhost:8080/"
        },
        "id": "JS-jnRRPtMQk",
        "outputId": "23b3a032-8ac8-4a3c-bcab-b70285f72dfc"
      },
      "execution_count": 20,
      "outputs": [
        {
          "output_type": "stream",
          "name": "stdout",
          "text": [
            "[Document(id_='86ea6966-5101-4330-a03b-9fda367fa8d8', embedding=None, metadata={}, excluded_embed_metadata_keys=[], excluded_llm_metadata_keys=[], relationships={}, text='orjinautomotive.com  1', mimetype='text/plain', start_char_idx=None, end_char_idx=None, text_template='{metadata_str}\\n\\n{content}', metadata_template='{key}: {value}', metadata_seperator='\\n'), Document(id_='ebae8c14-ca6e-4d9c-a267-06d0f0a98f1e', embedding=None, metadata={}, excluded_embed_metadata_keys=[], excluded_llm_metadata_keys=[], relationships={}, text='# ALFA ROMEO\\n\\n# Models\\n\\n|Model|Production Period|\\n|---|---|\\n|ALFA 75 (162B)|05/1985-12/1992|\\n|ALFA 90 (162)|10/1984-07/1987|\\n\\n# Parts List\\n\\n|Ref|Old Code|CODE|Description|OE – Number|OE – Number|FEATURES|\\n|---|---|---|---|---|---|---|\\n|1|FI097|00304|Tie rod end|116002404100|116002404101|Female-M10x1,25-|\\n|2|AR019|00023|Axial joint|60521693|117022300200|M14x1,5-M14x1,5|\\n|3|AR020|00024|Axial joint|116002404004|1935725000|-|\\n|4|AR016|00020|Ball joint|116002101900|116002101908|Lower|\\n|5|AR018|00022|Ball joint|116002104212|116462109800|Upper|', mimetype='text/plain', start_char_idx=None, end_char_idx=None, text_template='{metadata_str}\\n\\n{content}', metadata_template='{key}: {value}', metadata_seperator='\\n'), Document(id_='0725810a-a829-403c-9a57-aad6fdef810c', embedding=None, metadata={}, excluded_embed_metadata_keys=[], excluded_llm_metadata_keys=[], relationships={}, text='# ALFA ROMEO\\n\\n# 1\\n\\n|Ref|Old CODE|Description|OE – Number|FEATURES|\\n|---|---|---|---|---|\\n|1|FI036 00251|Stabilizer link|60570627|M10x1,25-99 mm|\\n|2|AR026 00027|Tie rod end|9947720|-|\\n|3|- 00219|Tie rod end-L|60565706|M10x1,25-Female-M12x1,5-128 mm|\\n|4|- 00220|Tie rod end-R|60565705|M10x1,25-Female-M12x1,5-128 mm|\\n|5|- 01584|Tie rod end-L|60608979|M10x1,25-Female-M18x1,5-256 mm|\\n|6|- 02331|Tie rod end-R|60608980|M10x1,25-Female-M18x1,5-256 mm|\\n|7|- 01612|Tie rod end-L|9947765|-|\\n|8|- 01611|Tie rod end-R|9947764|-|\\n|9|AR021 00025|Axial joint|9944452|M12x1,5-M14x1,5|\\n|10|- 01625|Axial joint|9947718|M14x1,5-M14x1,5|\\n|11|FI104-L 00309|Control arm complete-L|46744556|Ø17-326,5|\\n|12|FI104-R 00310|Control arm complete-R|46474557|Ø17-326,5 mm|\\n|13|FI028-L 00238|Bushing-L|7601065|-|\\n|14|FI028-R 00239|Bushing-R|7601068|-|\\n|15|FI034-L 00249|Bushing-L|-|Part of|\\n|16|FI034-R 00250|Bushing-R|-|Part of|', mimetype='text/plain', start_char_idx=None, end_char_idx=None, text_template='{metadata_str}\\n\\n{content}', metadata_template='{key}: {value}', metadata_seperator='\\n'), Document(id_='470ec438-d4e0-4ff3-b5d1-139bb52d3037', embedding=None, metadata={}, excluded_embed_metadata_keys=[], excluded_llm_metadata_keys=[], relationships={}, text='# ALFA ROMEO\\n\\n# 1\\n\\n|Ref|Old code|CODE|Description|OE – Number|OE – Number|FEATURES|\\n|---|---|---|---|---|---|---|\\n|1|FI036|00251|Stabilizer link|60570627|116002404101|M10x1,25-99 mm|\\n|2|AR026|00027|Tie rod end|9947720|-|-|\\n|3|FI006|00223|Tie rod end|98845030|-|Female-M14x1,5-107 mm|\\n|4|FI003-L|00219|Tie rod end-L|9947437|60809612|Female-M12x1,5-128 mm|\\n|5|FI003-R|00220|Tie rod end-R|9947438|60809613|Female-M12x1,5-128 mm|\\n|6|AR021|00025|Axial joint|9944452|9950452|M12x1,5-M14x1,5|\\n|7|-|01625|Axial joint|9947718|9950786|M14x1,5-M14x1,5|\\n|8|FI104-L|00309|Control arm|46744556|93501144|Ø17-326,5 complete-L|\\n|9|FI104-R|00310|Control arm complete-R|46474557|60813044|Ø17-326,5 mm|\\n|10|FI028-L|00238|Bushing-L|7601065|-|-|\\n|11|FI028-R|00239|Bushing-R|7601068|-|-|\\n|12|FI034-L|00249|Bushing-L|-|-|Part of|\\n|13|FI034-R|00250|Bushing-R|46474557|-|Part of|', mimetype='text/plain', start_char_idx=None, end_char_idx=None, text_template='{metadata_str}\\n\\n{content}', metadata_template='{key}: {value}', metadata_seperator='\\n'), Document(id_='6ddcc72b-4f11-4efc-84b1-9b5deaf05d38', embedding=None, metadata={}, excluded_embed_metadata_keys=[], excluded_llm_metadata_keys=[], relationships={}, text='# ALFA ROMEO\\n\\n| | | |1|00001|1|00001| | | | | |\\n|---|---|---|---|---|---|---|---|---|---|---|---|\\n| |12|05726| | | |13|05727| | | | |\\n| |3|00006| | |7|00008|4|00007| | | |\\n|7|00008| |5|05718| |6|05719| | | | |\\n|03/2007 ->| | | |19|05724| |21|05725| | | |\\n| | | |18|05722|20|05723|8|00028| |9|00029|\\n|15|05721| | |15|05721| | | | | | |\\n|14|05720| |10|02374| |11|02375| | | | |\\n|2|00002| |16|05728| |16|05728| | | | |\\n| | | |17|05729| | |17|05729| | | |\\n\\norjinautomotive.com', mimetype='text/plain', start_char_idx=None, end_char_idx=None, text_template='{metadata_str}\\n\\n{content}', metadata_template='{key}: {value}', metadata_seperator='\\n'), Document(id_='4369f725-f53f-43a9-8f1a-12c6b1e33ff3', embedding=None, metadata={}, excluded_embed_metadata_keys=[], excluded_llm_metadata_keys=[], relationships={}, text='# ALFA ROMEO\\n\\n|Ref|Old code|CODE|Description|OE – Number|OE – Number|FEATURES|Ref|Old code|CODE|Description|OE – Number|OE – Number|FEATURES| | | | | | |\\n|---|---|---|---|---|---|---|---|---|---|---|---|---|---|---|---|---|---|---|---|\\n|1|AR001|00001|Stabilizer link|46843389|116002404101|M10x1,5-122,5 mm| |11|-|02375|complete-R|60651940|60657246|M10x1.25-147 mm| | | | | |\\n|2|AR002|00002|Stabilizer link|60613575|-|M10x1,25-180 mm| |12|-|05726|Track rod-L|51777717|60651935|-| | | | | |\\n| | | | | |3|AR005-L|00006|Tie rod end-L|9947919|-|M10x1.25-M14X1.5-77 mm| |13|-|05727|Track rod-R|51777718|60651934|-|\\n| | | | |4|AR005-R|00007|Tie rod end-R|9947920|-|M10x1.25-M14X1.5-77 mm| |14|-|05720|Bushing|Part of|60666021|-| |\\n| | | | |5|-|05718|Tie rod end-L|77364521|-| | |15|-|05721|Bushing|Part of|-|Lower| |\\n| | | | | |6|-|05719|Tie rod end-R|77364522|-| | |16|-|05728|Bushing|60651935|-|-|\\n|7|AR006|00008|Axial joint|9947923|-|M14x1,5-M16x1,5| |17|-|05729|Bushing|46402825|60682636|-| | | | | |\\n|8|AR027-L|00028|Control arm|60652465|60686891|M14x1.5-251 mm| |18|-|05722|Bushing-L|60686891|-|Lower| | | | | |\\n|9|AR027-R|00029|complete-R|60652466|60686892|mm| |19|-|05724|Bushing-L|60686891|-|Lower| | | | | |\\n|10|-|02374|Control arm|60651939|60657245|M10x1.25-147 mm| |20|-|05723|Bushing-R|60686892|-|Lower| | | | | |\\n| | | | | | | | |21|-|05725|Bushing-R| |-|Lower| | | | | |', mimetype='text/plain', start_char_idx=None, end_char_idx=None, text_template='{metadata_str}\\n\\n{content}', metadata_template='{key}: {value}', metadata_seperator='\\n'), Document(id_='637d6552-fb5a-486f-bfaa-f1fef3b91674', embedding=None, metadata={}, excluded_embed_metadata_keys=[], excluded_llm_metadata_keys=[], relationships={}, text='# ALFA ROMEO\\n\\n|Ref|Old code|CODE|Description|OE – Number|OE – Number|FEATURES|\\n|---|---|---|---|---|---|---|\\n|1|FI036|00251|Stabilizer link|60570627|116002404101|M10x1,25-99 mm|\\n|2|FI006|00223|Tie rod end|98845030|-|Female-M14x1,5-107 mm|\\n|3|FI003-L|00219|Tie rod end-L|9947437|60809612|Female-M12x1,5-128 mm|\\n|4|FI003-R|00220|Tie rod end-R|9947438|60809613|Female-M12x1,5-128 mm|\\n|5|-|01612|Tie rod end-L|9947765|-|-|\\n|6|-|01611|Tie rod end-R|9947764|-|-|\\n|7|AR021|00025|Axial joint|9944452|9950452|M12x1,5-M14x1,5|\\n|8|-|01566|Axial joint|9939557|9947361|M12x1,5-M14x1,5|\\n|9|-|01625|Axial joint|9947718|9950786|M14x1,5-292 mm|\\n|10|FI104-L|00309|Control arm|46744556|93501144|Ø17-326,5|\\n|11|FI104-R|00310|Control arm|46474557|60813044|Ø17-326,5 mm|\\n|12|FI028-L|00238|Bushing-L|7601065|-|-|\\n|13|FI028-R|00239|Bushing-R|7601068|-|Part of 46744556|\\n|14|FI034-L|00249|Bushing-L|-|-|Part of|\\n|15|FI034-R|00250|Bushing-R|46474557|-|-|', mimetype='text/plain', start_char_idx=None, end_char_idx=None, text_template='{metadata_str}\\n\\n{content}', metadata_template='{key}: {value}', metadata_seperator='\\n'), Document(id_='5d469380-c22b-4c48-9b50-7f0fb5c453e3', embedding=None, metadata={}, excluded_embed_metadata_keys=[], excluded_llm_metadata_keys=[], relationships={}, text='# 156 (932) (09/1997-05/2006) ALFA ROMEO\\n\\n|Ref|Old code|CODE|Description|OE – Number|OE – Number|FEATURES|\\n|---|---|---|---|---|---|---|\\n|1|AR001|00001|Stabilizer link|46843389|116002404101|M10x1,5-122,5 mm Rear-|\\n|2|AR002|00002|Stabilizer link|60613575|-|M10x1,25-180 mm|\\n|3|AR005-L|00006|Tie rod end-L|9947919|-|M10x1.25-M14X1.5-77 mm|\\n|4|AR005-R|00007|Tie rod end-R|9947920|-|M10x1.25-M14X1.5-77 mm|\\n|5|AR006|00008|Axial joint|9947923|-|M14x1,5-M16x1,5|\\n|6|AR027-L|00028|Control arm complete-L|60652465|60686891|M14x1.5-251 mm|\\n|7|AR027-R|00029|Control arm complete-R|60652466|60686892|M14x1.5-251 mm|\\n|8|-|02374|Control arm complete-L|60651939|60657245|M10x1.25-147 mm|\\n|9|-|02375|Control arm complete-R|60651940|60657246|M10x1.25-147 mm|\\n|10|-|05726|Track rod-L|51777717|60651935|-|\\n|11|-|05727|Track rod-R|51777718|60651934|-|\\n|12|-|05720|Bushing|-|-|Part of Lower|\\n|13|-|05721|Bushing|-|-|Part of Lower|\\n|14|-|05722|Bushing-L|-|-|Part of Lower|\\n|15|-|05723|Bushing-R|-|-|Part of Lower|\\n|16|-|05724|Bushing-L|-|-|Part of Lower|\\n|17|-|05725|Bushing-R|-|-|Part of Lower|\\n|18|-|05728|Bushing|60651935|-|Part of Lower|\\n|19|-|05729|Bushing|46402825|60682636|-|', mimetype='text/plain', start_char_idx=None, end_char_idx=None, text_template='{metadata_str}\\n\\n{content}', metadata_template='{key}: {value}', metadata_seperator='\\n'), Document(id_='95bc92ac-f27d-455c-8f6c-01ae7cfd64eb', embedding=None, metadata={}, excluded_embed_metadata_keys=[], excluded_llm_metadata_keys=[], relationships={}, text='|Index|Code|\\n|---|---|\\n|1|02541|\\n|2|02542|\\n|7|02176|\\n|5|02545|\\n|8|05746|\\n|6|02546|\\n|9|02460|\\n|10|02461|\\n|11|05747|\\n|12|05748|\\n|13|05750|\\n|14|02149|\\n|15|02150|\\n|16|05751|\\n|18|05749|\\n|20|02152|\\n|21|02153|\\n|22|02151|\\n\\norjinautomotive.com', mimetype='text/plain', start_char_idx=None, end_char_idx=None, text_template='{metadata_str}\\n\\n{content}', metadata_template='{key}: {value}', metadata_seperator='\\n'), Document(id_='da33041b-c5b5-44c8-b689-95471dc8c934', embedding=None, metadata={}, excluded_embed_metadata_keys=[], excluded_llm_metadata_keys=[], relationships={}, text='# ALFA ROMEO\\n\\n|Ref|Old code|CODE|Description|OE – Number|OE – Number|FEATURES|Ref|Old code|CODE|Description|OE – Number|OE – Number|FEATURES|\\n|---|---|---|---|---|---|---|---|---|---|---|---|---|---|\\n|1|-|02541|Stabilizer link-L|50704361|116002404101|M12x1,75-102 mm|12|-|02463|Control arm|50704307|71749328|M14x1.5-341,5 mm|\\n|2|-|02542|Stabilizer link-R|50704362|51795455|M12x1,75-102 mm|13|-|05747|Upper Control|51817623|51835397|-|\\n|3|-|02543|Stabilizer link-L|50704680|51795705|M12x1,75-116 mm|14|-|05748|Upper control|51817624|51835398|-|\\n|4|-|02544|Stabilizer link-R|50704681|51795706|M12x1,75-116 mm|15|-|05750|Track rod|50705032|51795575|Rear 71746513|\\n|5|-|02545|Tie rod end-L|77363706|77363706|-|17|-|02150|Bushing|71746513|-|-|\\n|6|-|02546|Tie rod end-R|77363707|-|-|18|-|05749|Bushing|-|-|-|\\n|7|-|02176|Axial joint|-|M16x1,5-213,5 mm|Part of|19|-|05751|Bushing|-|-|Part of|\\n|8|-|05746|Axial joint|77364750|-|-|20|-|02152|Bushing-L|-|-|Part of|\\n|9|-|02460|Upper Control|51787337|71746512|M10x1.25-194,8 mm|21|-|02153|Bushing-R|-|-|Part of|\\n|10|-|02461|Upper control|51787336|71746513|M10x1.25-194,8 mm|22|-|2151|Bushing|50704306|50704307|-|\\n|11|-|02462|Control arm|50704306|71749327|M14x1.5-341,5 mm|-|-|-|-|-|-|-|', mimetype='text/plain', start_char_idx=None, end_char_idx=None, text_template='{metadata_str}\\n\\n{content}', metadata_template='{key}: {value}', metadata_seperator='\\n'), Document(id_='15a65cf9-fd66-420b-891e-214e09c4f383', embedding=None, metadata={}, excluded_embed_metadata_keys=[], excluded_llm_metadata_keys=[], relationships={}, text='# ALFA ROMEO\\n\\n# 164 (164) (01/1987-01/1992)\\n\\n# 164 (168) (01/1992-01/1998)\\n\\n|Ref|Old code|CODE|Description|OE – Number|OE – Number|FEATURES|\\n|---|---|---|---|---|---|---|\\n|1|-|01653|Stabilizer link|60801409|116002404101|Rear|\\n|2|-|02174|Stabilizer link|60570365|60801355|-|\\n|3|AR008|00010|Tie rod end|60507918|82460439|-|\\n|4|AR009|00011|Axial joint|164002302801|9945566|M14x1,5-M14x1,5|\\n|5|AR013-L|00014|Control arm|60588843|82480038|ø13 complete-L|\\n|6|AR013-R|00015|Control arm|60588844|82480039|ø13 complete-R|\\n|7|-|00016|Control arm|60510363|60588845|ø15|\\n|8|-|00017|Control arm|60510362|60588846|ø15 complete-R|\\n|9|AR010|00012|Ball joint|60510360|60510360|ø15|\\n|10|AR011|00013|Ball joint|60566661|82459170|ø13|\\n|11|-|01684|Bushing|60510361|82480037|-|\\n|12|-|02177|Bushing|82427260|82427260|-|', mimetype='text/plain', start_char_idx=None, end_char_idx=None, text_template='{metadata_str}\\n\\n{content}', metadata_template='{key}: {value}', metadata_seperator='\\n'), Document(id_='6bb5124e-f128-47e2-8f3c-a5295d7e038c', embedding=None, metadata={}, excluded_embed_metadata_keys=[], excluded_llm_metadata_keys=[], relationships={}, text='# ALFA ROMEO\\n\\n|Ref|Old code|CODE|Description|OE – Number|OE – Number|FEATURES|\\n|---|---|---|---|---|---|---|\\n|1|AR003|00003|Stabilizer link|60630757|116002404101|M10x1,5-145 mm|\\n|2|AR004-L|00004|Stabilizer link-L|60628284|-|Rear-M10x1,5-95 mm|\\n|3|AR004-R|00005|Stabilizer link-R|60628255|-|Rear-M10x1,5-95 mm|\\n|4|-|01659|Stabilizer link-L|60628294|-|Rear|\\n|5|-|01657|Stabilizer link-R|60628295|-|Rear|\\n|6|AR005-L|00006|Tie rod end-L|9947919|-|M14X1.5-77 mm|\\n|7|AR005-R|00007|Tie rod end-R|9947920|-|M14X1.5-77 mm|\\n|8|AR007|00009|Axial joint|9948297|9948905|M14x1,5-M16x1,5|\\n|9|-|02456|Control arm|60627290|60695895|M14x1,5-333 mm|\\n|10|-|02457|Control arm|60627291|60695896|M14x1,5-333 mm|\\n|11|-|02458|Track Control arm-L|60666021|-|M10x1.25-165 mm|\\n|12|-|02459|Track Control arm-R|60666020|-|M10x1.25-165 mm|\\n|13|-|03682|Bushing|2013520027|-|-|\\n|14|-|05740|Bushing|60666021|-|-|\\n|15|-|05743|Bushing|60695896|-|Part of Rear|\\n|16|-|05744|Bushing|60695896|-|Part of Rear|\\n|17|-|05745|Bushing|60695896|-|Part of Rear|', mimetype='text/plain', start_char_idx=None, end_char_idx=None, text_template='{metadata_str}\\n\\n{content}', metadata_template='{key}: {value}', metadata_seperator='\\n'), Document(id_='cba904f6-95cc-4d52-ad51-be2cd2042f91', embedding=None, metadata={}, excluded_embed_metadata_keys=[], excluded_llm_metadata_keys=[], relationships={}, text='# ALFETTA (116) ALFA ROMEO 07/1974-12/1984\\n\\n# ALFETTA GT (116) 01/1974-01/1986\\n\\n# GIULIETTA (116) 10/1977-12/1985\\n\\n|Ref|Old code|CODE|Description|OE – Number|OE – Number|FEATURES|\\n|---|---|---|---|---|---|---|\\n|1|FI097|00304|Tie rod end|116002404100|116002404101|Female-M10x1,25-72 mm|\\n|2|AR019|00023|Axial joint|60521693|117022300200|M14x1,5-M14x1,5|\\n|4|AR016|00020|Ball joint|116002101900|116002101908|Lower|\\n|5|AR018|00022|Ball joint|116002104212|116462109800|Upper|\\n\\norjinautomotive.com 13', mimetype='text/plain', start_char_idx=None, end_char_idx=None, text_template='{metadata_str}\\n\\n{content}', metadata_template='{key}: {value}', metadata_seperator='\\n'), Document(id_='4a34d21b-8040-4645-9f59-38279ee59223', embedding=None, metadata={}, excluded_embed_metadata_keys=[], excluded_llm_metadata_keys=[], relationships={}, text='# BRERA (01/2006-10/2010) ALFA ROMEO\\n\\n| |1|02541|2|02542| | | | |\\n|---|---|---|---|---|---|---|---|---|\\n|5|02545|7|02176|7|02176|6|02546| |\\n| |8|05746|8|05746| | | | |\\n| | |17|02150| | | | | |\\n| |9|02460|16|02149|10|02461| | |\\n| | |19|05749| | | | | |\\n|18|02151|18|02151| | | | | |\\n| |11|02462|21|02152|22|02153|12|02463|\\n| | |17|02150| | | | | |\\n| |13|05747|16|02149|14|05748| | |\\n|15|05750| | |15|05750| | | |\\n|20|05751|3|02543|4|02544|20|05751| |', mimetype='text/plain', start_char_idx=None, end_char_idx=None, text_template='{metadata_str}\\n\\n{content}', metadata_template='{key}: {value}', metadata_seperator='\\n'), Document(id_='06179abd-9fb4-4bc5-a8ab-9ed147ff835d', embedding=None, metadata={}, excluded_embed_metadata_keys=[], excluded_llm_metadata_keys=[], relationships={}, text='# BRERA (01/2006-10/2010) ALFA ROMEO\\n\\n|Ref|Old CODE|Description|OE – Number|OE – Number|FEATURES|Ref|Old CODE|Description|OE – Number|OE – Number|FEATURES|\\n|---|---|---|---|---|---|---|---|---|---|---|---|\\n|1|-|02541 Stabilizer link-L|50704361|116002404101|M12x1,75-102 mm|12|-|02463 Control arm|50704307|71749328|M14x1.5-341,5 mm|\\n|2|-|02542 Stabilizer link-R|50704362|51795455|M12x1,75-102 mm|13|-|05747 Upper Control arm complete-L|51817623|51835397|-|\\n|3|-|02543 Stabilizer link-L|50704680|51795705|M12x1,75-116 mm|14|-|05748 Upper control arm complete-R|51817624|51835398|-|\\n|4|-|02544 Stabilizer link-R|50704681|51795706|M12x1,75-116 mm|15|-|05750 Track rod|50705032|51795575|Rear 50704948|\\n|5|-|02545 Tie rod end-L|77363706|-|-|17|-|02150 Bushing|50704948|-|Part of|\\n|6|-|02546 Tie rod end-R|77363707|-|-|18|-|02151 Bushing|-|-|Part of|\\n|7|-|02176 Axial joint|50505978|77363705|M16x1,5-213,5 mm|19|-|05749 Bushing|-|-|Part of|\\n|8|-|05746 Axial joint|50501441|77364750|-|20|-|05751 Bushing|50705032|-|Part of|\\n|9|-|02460 Upper Control arm complete-L|51787337|71746512|M10x1.25-194,8 mm|21|-|02152 Bushing-L|-|-|Part of|\\n|10|-|02461 Upper control arm complete-R|51787336|71746513|M10x1.25-194,8 mm|22|-|02153 Bushing-R|-|-|Part of|\\n|11|-|02462|50704306|71749327|-|-|-|-|-|-|-|\\n\\norjinautomotive.com', mimetype='text/plain', start_char_idx=None, end_char_idx=None, text_template='{metadata_str}\\n\\n{content}', metadata_template='{key}: {value}', metadata_seperator='\\n'), Document(id_='3e85255b-4865-4a4f-ac46-48f4316d5ba2', embedding=None, metadata={}, excluded_embed_metadata_keys=[], excluded_llm_metadata_keys=[], relationships={}, text='# GIULIETTA (940) (04/2010-->) ALFA ROMEO\\n\\n|Ref|Old code|CODE|Description|OE – Number|OE – Number|FEATURES|\\n|---|---|---|---|---|---|---|\\n|1|FI095|00302|Stabilizer link|50515276|116002404101|M10x1,5-301 mm|\\n|2|-|03376|Stabilizer link-L|50515274|-|Rear Control arm|\\n|3|-|03377|Stabilizer link-R|50515275|-|Rear Control arm|\\n|4|-|05730|Tie rod end-L|50520352|-|-|\\n|5|-|05731|Tie rod end-R|50520353|-|-|\\n|6|-|05732|Axial joint|50518204|50522908|Part of|\\n|7|-|05733|complete-L|50513444|-|-|\\n|8|-|05734|complete-R|50513442|-|-|\\n|9|-|05737|Ball joint|50513442|50513444|Lower Part of|\\n|10|-|05634|Bushing|50521045|50521046|Part of|\\n|11|-|05736|Bushing|-|-|Part of|', mimetype='text/plain', start_char_idx=None, end_char_idx=None, text_template='{metadata_str}\\n\\n{content}', metadata_template='{key}: {value}', metadata_seperator='\\n'), Document(id_='da559bf0-552d-49ce-9407-a7f22e4406d7', embedding=None, metadata={}, excluded_embed_metadata_keys=[], excluded_llm_metadata_keys=[], relationships={}, text='# GT (937) (11/2003-09/2010) ALFA ROMEO\\n\\n|Ref|Old code|CODE|Description|OE – Number|OE – Number|FEATURES|Ref|Old code|CODE|Description|OE – Number|OE – Number|FEATURES|\\n|---|---|---|---|---|---|---|---|---|---|---|---|---|---|\\n|1|AR001|00001|Stabilizer link|46843389|116002404101|M10x1,5-122,5 mm|11|-|02375|complete-R|60651940|60657246|M10x1.25-147 mm|\\n|2|AR002|00002|Stabilizer link|60613575|-|M10x1,25-180 mm|12|-|05726|Track rod-L|51777717|60651935|-|\\n|3|AR005-L|00006|Tie rod end-L|9947919|-|M10x1.25-M14X1.5-77 mm|14|-|05720|Bushing|-|Part of|Part of|\\n|4|AR005-R|00007|Tie rod end-R|9947920|-|M10x1.25-M14X1.5-77 mm|15|-|05721|Bushing|-|Part of|Part of|\\n|5|-|05718|Tie rod end-L|77364521|-|-|16|-|05728|Bushing|-|Part of|Part of|\\n|6|-|05719|Tie rod end-R|77364522|-|-|17|-|05729|Bushing|46402825|60682636|-|\\n|7|AR006|00008|Axial joint|9947923|-|M14x1,5-M16x1,5|17|-|05729|Bushing|46402825|60682636|-|\\n|8|AR027-L|00028|Control arm|60652465|60686891|M14x1.5-251 mm|18|-|05722|Bushing-L|60686891|60686891|Lower|\\n|9|AR027-R|00029|Control arm|60652466|60686892|M14x1.5-251 mm|19|-|05724|Bushing-L|60686891|60686891|Lower|\\n|10|-|02374|Control arm|60651939|60657245|M10x1.25-147 mm|21|-|05725|Bushing-R|-|Part of|Part of|\\n\\norjinautomotive.com', mimetype='text/plain', start_char_idx=None, end_char_idx=None, text_template='{metadata_str}\\n\\n{content}', metadata_template='{key}: {value}', metadata_seperator='\\n'), Document(id_='b0bede65-09fb-4e37-aa9b-95cd633b17f7', embedding=None, metadata={}, excluded_embed_metadata_keys=[], excluded_llm_metadata_keys=[], relationships={}, text='# GTV (916C_) (09/1994-01/2006) ALFA ROMEO\\n\\n# 1\\n\\n|00030|V6| | | |\\n|---|---|---|---|---|\\n| |00251| | | |\\n| |00027|2.0 V6 TURBO - 3.0 V6| | |\\n|00223| | | | |\\n|00219|00025|00025| |00220|\\n|03/1995|03/1995|03/1995|03/1995| |\\n|01612|01625|01625| |01611|\\n|2.0 TS 03/1995-05/1995| | | | |\\n| |00249|00250| | |\\n|02175|00238|00239|02175| |\\n| |00309| |00310| |\\n|00018| | | | |\\n|01653|05575|05575|01653| |\\n\\n# Ref\\n\\n|Old code|CODE|Description|OE – Number|FEATURES|Ref|Old code|CODE|Description|OE – Number|FEATURES|\\n|---|---|---|---|---|---|---|---|---|---|---|\\n|1|AR030|00030|Stabilizer link|60614514|116002404101|M10x1,5-272 mm|12|AR021|00025|Axial joint|\\n|2|FI036|00251|Stabilizer link|60570627|60809242|M10x1,25-99 mm|13|-|01625|Axial joint|\\n|3|-|01653|Stabilizer link|60801409|60801409VVD|Rear|14|FI104-L|00309|Control arm|\\n| | | | | | |15|FI104-R|00310|complete-R|46474557|\\n|4|AR015-L|00018|Stabilizer link-L|60612436|-| |16|-|02175|Ball joint|\\n|5|AR015-R|00019|Stabilizer link-R|60612435|-|Rear-M10x1,5-90mm|16|-|05575|Track rod|\\n|6|AR026|00027|Tie rod end|9947720|-| |17|-|05575|Track rod|\\n|7|FI006|00223|Tie rod end|98845030|-|M14x1,5-107 mm|18|FI028-L|00238|Bushing-L|\\n|8|-|00219|Tie rod end-L|60565706|60809612|M12x1,5-128 mm|19|FI028-R|00239|Bushing-R|\\n|9|-|00220|Tie rod end-R|60565705|60809613|M12x1,5-128 mm| | | | |\\n|10|-|01612|Tie rod end-L|9947765|-| |21|FI034-R|00250|Bushing-R|\\n|11|-|01611|Tie rod end-R|9947764|-| | | | | |', mimetype='text/plain', start_char_idx=None, end_char_idx=None, text_template='{metadata_str}\\n\\n{content}', metadata_template='{key}: {value}', metadata_seperator='\\n'), Document(id_='b471c74c-5980-4f71-8068-21cf0894ea99', embedding=None, metadata={}, excluded_embed_metadata_keys=[], excluded_llm_metadata_keys=[], relationships={}, text='# MITO (955) (09/2008-->)\\n\\n# ALFA ROMEO\\n\\n|Ref|Old code|CODE|Description|OE – Number|OE – Number|FEATURES|Ref|Old code|CODE|Description|OE – Number|OE – Number|FEATURES| | | | | |\\n|---|---|---|---|---|---|---|---|---|---|---|---|---|---|---|---|---|---|---|\\n|1|FI095|00302|Stabilizer link|50515276|116002404101|M10x1,5-301 mm|6|-|02811|Control arm|50511650|-|Ø16-338 mm complete-R| | | | | |\\n|2|FI093-L|00299|Tie rod end-L|77363829|1610937180|M14x1,5-112,5 mm|7|-|02812|Control arm|-|-|w/o ball joint-L| | | | | |\\n|3|FI093-R|00300|Tie rod end-R|77363830|1610937280|M14x1,5-112,5 mm|8|-|02813|Control arm|-|-|w/o ball joint-R| | | | | |\\n|4|FI094|00301|Axial joint|1603543|95514914|M14x1,5-M14x1,5|5|-|02810|Control arm|55703629|-|Ø16-338 mm complete-L| | | | | |\\n| |9| | | | |FI090|00297|Ball joint|51783056|51783057|Lower-Ø16 Part of|10|FI088|00295|Bushing|352380|95514537|Small Part of|\\n| | | | | | |11|FI089|00296|Bushing|55700751|55703629|Big Part of| | | | | | |\\n\\norjinautomotive.com', mimetype='text/plain', start_char_idx=None, end_char_idx=None, text_template='{metadata_str}\\n\\n{content}', metadata_template='{key}: {value}', metadata_seperator='\\n'), Document(id_='7aefbedd-5e65-4bcd-bdd6-dd96f484e0f0', embedding=None, metadata={}, excluded_embed_metadata_keys=[], excluded_llm_metadata_keys=[], relationships={}, text='# ALFA ROMEORZ 01/1992-12/1994\\n\\n# SZ 09/1988-08/1994\\n\\n|Ref|Old code|CODE|Description|OE – Number|OE – Number|FEATURES|\\n|---|---|---|---|---|---|---|\\n|Ref|Old code|CODE|Description|OE – Number|OE – Number|FEATURES|\\n|1|FI097|00304|Tie rod end|116002404100|116002404101|M10x1,25-Female-M14x1,5-72 mm|\\n|2|AR019|00023|Axial joint|60521693|117022300200|M14x1,5-M14x1,5|\\n|3|AR016|00020|Ball joint|116002101900|116002101908|Lower|\\n|4|AR018|00022|Ball joint|116002104212|116462109800|Upper|', mimetype='text/plain', start_char_idx=None, end_char_idx=None, text_template='{metadata_str}\\n\\n{content}', metadata_template='{key}: {value}', metadata_seperator='\\n'), Document(id_='6d1c8c9a-1a56-4201-975d-e7745a990a66', embedding=None, metadata={}, excluded_embed_metadata_keys=[], excluded_llm_metadata_keys=[], relationships={}, text='# SPIDER (916S_) (09/1994-01/2006) ALFA ROMEO\\n\\n|Ref|Old CODE|Description|OE – Number|FEATURES|Ref|Old CODE|Description|OE – Number|FEATURES|\\n|---|---|---|---|---|---|---|---|---|---|\\n|1|AR030|Stabilizer link|60614514|M10x1,5-272 mm|12|AR021|00025|Axial joint|9944452|\\n|2|FI036|00251|Stabilizer link|60570627|M10x1,25-99 mm|13|-|01625|Axial joint|\\n|3|-|01653|Stabilizer link|60801409|Rear|14|FI104-L|00309|Control arm|\\n|4|AR015-L|00018|Stabilizer link-L|60612436|-|15|FI104-R|00310|Control arm|\\n|5|AR015-R|00019|Stabilizer link-R|60612435|-|16|-|02175|Ball joint|\\n|6|AR026|00027|Tie rod end|9947720|-|17|-|05575|Track rod|\\n|7|FI006|00223|Tie rod end|98845030|-|18|FI028-L|00238|Bushing-L|\\n|8|-|00219|Tie rod end-L|60565706|60809612|19|FI028-R|00239|Bushing-R|\\n|9|-|00220|Tie rod end-R|60565705|60809613|20|FI034-L|00249|Bushing-L|\\n|10|-|01612|Tie rod end-L|9947765|-|21|FI034-R|00250|Bushing-R|\\n|11|-|01611|Tie rod end-R|9947764|-| | | | |', mimetype='text/plain', start_char_idx=None, end_char_idx=None, text_template='{metadata_str}\\n\\n{content}', metadata_template='{key}: {value}', metadata_seperator='\\n'), Document(id_='701e83ce-240b-4e6a-aeb7-4648d8bdbb44', embedding=None, metadata={}, excluded_embed_metadata_keys=[], excluded_llm_metadata_keys=[], relationships={}, text='# SPIDER (939) (09/2006-10/2010) ALFA ROMEO\\n\\n| | |1|02541|2|02542| | | |\\n|---|---|---|---|---|---|---|---|---|\\n|5|02545| | | |6|02546| | |\\n| | |7|02176|7|02176| | | |\\n| | |8|05746|8|05746| | | |\\n| | | |17 02150| | | | | |\\n| | | |16 02149| | | | | |\\n| | |9|02460|10|02461| | | |\\n| | | |19 05749| | | | | |\\n|18|02151|18|02151| | | | | |\\n| | | |19 05749| | | | | |\\n| |11|02462|21|02152|22|02153|12|02463|\\n| | | |17 02150| | | | | |\\n|13|05747|16|02149|14|05748| | | |\\n| |15|05750|15 05750| | | | | |\\n|20|05751|3|02543|4|02544|20|05751| |', mimetype='text/plain', start_char_idx=None, end_char_idx=None, text_template='{metadata_str}\\n\\n{content}', metadata_template='{key}: {value}', metadata_seperator='\\n'), Document(id_='a6a255ae-5413-4e4e-aaef-e22c4871e208', embedding=None, metadata={}, excluded_embed_metadata_keys=[], excluded_llm_metadata_keys=[], relationships={}, text='# SPIDER (939) (09/2006-10/2010) ALFA ROMEO\\n\\n|Ref|Old code|CODE|Description|OE – Number|OE – Number|FEATURES|Ref|Old code|CODE|Description|OE – Number|OE – Number|FEATURES|\\n|---|---|---|---|---|---|---|---|---|---|---|---|---|---|\\n|1|-|02541|Stabilizer link-L|50704361|116002404101|M12x1,75-102 mm|12|-|02463|Control arm|50704307|71749328|M14x1.5-341,5 mm|\\n|2|-|02542|Stabilizer link-R|50704362|51795455|M12x1,75-102 mm|13|-|05747|Upper Control|51817623|51835397|-|\\n|3|-|02543|Stabilizer link-L|50704680|51795705|M12x1,75-116 mm|14|-|05748|Upper control|51817624|51835398|-|\\n|4|-|02544|Stabilizer link-R|50704681|51795706|M12x1,75-116 mm|15|-|05750|Track rod|50705032|51795575|Rear|\\n|5|-|02545|Tie rod end-L|77363706|-|-|16|-|02149|Bushing|-|-|Part of|\\n|6|-|02546|Tie rod end-R|77363707|-|-|17|-|02150|Bushing|50704948|71746513|Part of|\\n|7|-|02176|Axial joint|50505978|77363705|M20x1,5-|18|-|02151|Bushing|-|-|Part of|\\n|8|-|05746|Axial joint|50501441|77364750|-|19|-|05749|Bushing|-|-|Part of|\\n|9|-|02460|Upper Control|51787337|71746512|M10x1.25-194,8 mm|20|-|05751|Bushing|-|-|Part of|\\n|10|-|02461|Upper control|51787336|71746513|M10x1.25-194,8 mm|21|-|02152|Bushing-L|-|-|Part of|\\n|11|-|02462|Control arm|50704306|71749327|M14x1.5-341,5 mm|22|-|02153|Bushing-R|-|-|Part of|\\n\\norjinautomotive.com', mimetype='text/plain', start_char_idx=None, end_char_idx=None, text_template='{metadata_str}\\n\\n{content}', metadata_template='{key}: {value}', metadata_seperator='\\n')]\n"
          ]
        }
      ]
    },
    {
      "cell_type": "code",
      "source": [
        "print(document[2].text [:5000])"
      ],
      "metadata": {
        "colab": {
          "base_uri": "https://localhost:8080/"
        },
        "collapsed": true,
        "id": "Vb44TQy-WsPe",
        "outputId": "fe7769bf-9131-4e31-f93b-92b76b5eb8cb"
      },
      "execution_count": 16,
      "outputs": [
        {
          "output_type": "stream",
          "name": "stdout",
          "text": [
            "# ALFA ROMEO\n",
            "\n",
            "# 1\n",
            "\n",
            "|Ref|Old CODE|Description|OE – Number|FEATURES|\n",
            "|---|---|---|---|---|\n",
            "|1|FI036 00251|Stabilizer link|60570627|M10x1,25-99 mm|\n",
            "|2|AR026 00027|Tie rod end|9947720|-|\n",
            "|3|- 00219|Tie rod end-L|60565706|M10x1,25-Female-M12x1,5-128 mm|\n",
            "|4|- 00220|Tie rod end-R|60565705|M10x1,25-Female-M12x1,5-128 mm|\n",
            "|5|- 01584|Tie rod end-L|60608979|M10x1,25-Female-M18x1,5-256 mm|\n",
            "|6|- 02331|Tie rod end-R|60608980|M10x1,25-Female-M18x1,5-256 mm|\n",
            "|7|- 01612|Tie rod end-L|9947765|-|\n",
            "|8|- 01611|Tie rod end-R|9947764|-|\n",
            "|9|AR021 00025|Axial joint|9944452|M12x1,5-M14x1,5|\n",
            "|10|- 01625|Axial joint|9947718|M14x1,5-M14x1,5|\n",
            "|11|FI104-L 00309|Control arm complete-L|46744556|Ø17-326,5|\n",
            "|12|FI104-R 00310|Control arm complete-R|46474557|Ø17-326,5 mm|\n",
            "|13|FI028-L 00238|Bushing-L|7601065|-|\n",
            "|14|FI028-R 00239|Bushing-R|7601068|-|\n",
            "|15|FI034-L 00249|Bushing-L|-|Part of|\n",
            "|16|FI034-R 00250|Bushing-R|-|Part of|\n"
          ]
        }
      ]
    },
    {
      "cell_type": "code",
      "source": [
        "file_name = \"alfa.md\"\n",
        "with open(file_name, 'w') as file:\n",
        "  file.write(document[0].text)"
      ],
      "metadata": {
        "id": "XX3MXJGbW8eJ"
      },
      "execution_count": 23,
      "outputs": []
    }
  ]
}